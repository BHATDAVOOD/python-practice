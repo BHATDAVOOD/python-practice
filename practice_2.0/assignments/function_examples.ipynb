{
 "cells": [
  {
   "metadata": {},
   "cell_type": "markdown",
   "source": "### Temperature Conversion",
   "id": "5d8bd40c1cc790a0"
  },
  {
   "metadata": {
    "ExecuteTime": {
     "end_time": "2025-05-18T10:49:24.280874Z",
     "start_time": "2025-05-18T10:49:24.273641Z"
    }
   },
   "cell_type": "code",
   "source": [
    "def convert_temperature(temperature,unit):\n",
    "    if unit == 'C':\n",
    "        return temperature * 9 / 5 + 32\n",
    "    elif unit == 'F':\n",
    "        return (temperature-32) * 5 / 9\n",
    "    else:\n",
    "        return None\n",
    "\n",
    "print(convert_temperature(36.8,'C'))\n",
    "print(convert_temperature(98.24,'F'))"
   ],
   "id": "initial_id",
   "outputs": [
    {
     "name": "stdout",
     "output_type": "stream",
     "text": [
      "98.24\n",
      "36.8\n"
     ]
    }
   ],
   "execution_count": 9
  },
  {
   "metadata": {},
   "cell_type": "markdown",
   "source": "### Password Strength Checker",
   "id": "66b0f1fdd1d70432"
  },
  {
   "metadata": {
    "ExecuteTime": {
     "end_time": "2025-05-19T06:01:38.834306Z",
     "start_time": "2025-05-19T06:01:38.813022Z"
    }
   },
   "cell_type": "code",
   "source": [
    "def is_strong_password(password):\n",
    "    if len(password) < 8:\n",
    "        return False\n",
    "    if not any(char.isdigit() for char in password):\n",
    "        return False\n",
    "    if not any(char.islower() for char in password):\n",
    "        return False\n",
    "    if not any(char.isupper() for char in password):\n",
    "        return False\n",
    "    if not any(char in '!@#$%^&*()_+' for char in password):\n",
    "        return False\n",
    "    return True\n",
    "print(is_strong_password('davood'))\n",
    "print(is_strong_password('Davood'))\n",
    "print(is_strong_password('Davood12'))\n",
    "print(is_strong_password('Davood12#'))"
   ],
   "id": "842ca92d593891fb",
   "outputs": [
    {
     "name": "stdout",
     "output_type": "stream",
     "text": [
      "False\n",
      "False\n",
      "False\n",
      "True\n"
     ]
    }
   ],
   "execution_count": 10
  },
  {
   "metadata": {},
   "cell_type": "markdown",
   "source": "### Calculate Total Cost of Items in the Cart",
   "id": "ecf70e44bccc5cf9"
  },
  {
   "metadata": {
    "ExecuteTime": {
     "end_time": "2025-05-19T06:07:36.500521Z",
     "start_time": "2025-05-19T06:07:36.488352Z"
    }
   },
   "cell_type": "code",
   "source": [
    "def calculate_total_cost(cart):\n",
    "    total_cost = 0\n",
    "    for item in cart:\n",
    "        total_cost += item['price']*item['quantity']\n",
    "    return total_cost\n",
    "\n",
    "cart=[\n",
    "    {'name':'Iphone 15','price':61999,'quantity':3},\n",
    "    {'name':'Pixel 7','price':30999,'quantity':4},\n",
    "    {'name':'Samsung A35','price':19999,'quantity':2},\n",
    "]\n",
    "\n",
    "print(calculate_total_cost(cart))"
   ],
   "id": "83967a62739ac7e2",
   "outputs": [
    {
     "name": "stdout",
     "output_type": "stream",
     "text": [
      "349991\n"
     ]
    }
   ],
   "execution_count": 11
  }
 ],
 "metadata": {
  "kernelspec": {
   "display_name": "Python 3",
   "language": "python",
   "name": "python3"
  },
  "language_info": {
   "codemirror_mode": {
    "name": "ipython",
    "version": 2
   },
   "file_extension": ".py",
   "mimetype": "text/x-python",
   "name": "python",
   "nbconvert_exporter": "python",
   "pygments_lexer": "ipython2",
   "version": "2.7.6"
  }
 },
 "nbformat": 4,
 "nbformat_minor": 5
}
