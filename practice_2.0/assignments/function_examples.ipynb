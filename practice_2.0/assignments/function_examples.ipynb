{
 "cells": [
  {
   "metadata": {},
   "cell_type": "markdown",
   "source": "### Temperature Conversion",
   "id": "5d8bd40c1cc790a0"
  },
  {
   "metadata": {
    "ExecuteTime": {
     "end_time": "2025-05-18T10:49:24.280874Z",
     "start_time": "2025-05-18T10:49:24.273641Z"
    }
   },
   "cell_type": "code",
   "source": [
    "def convert_temperature(temperature,unit):\n",
    "    if unit == 'C':\n",
    "        return temperature * 9 / 5 + 32\n",
    "    elif unit == 'F':\n",
    "        return (temperature-32) * 5 / 9\n",
    "    else:\n",
    "        return None\n",
    "\n",
    "print(convert_temperature(36.8,'C'))\n",
    "print(convert_temperature(98.24,'F'))"
   ],
   "id": "initial_id",
   "outputs": [
    {
     "name": "stdout",
     "output_type": "stream",
     "text": [
      "98.24\n",
      "36.8\n"
     ]
    }
   ],
   "execution_count": 9
  },
  {
   "metadata": {},
   "cell_type": "markdown",
   "source": "### Password Strength Checker",
   "id": "66b0f1fdd1d70432"
  },
  {
   "metadata": {
    "ExecuteTime": {
     "end_time": "2025-05-19T06:01:38.834306Z",
     "start_time": "2025-05-19T06:01:38.813022Z"
    }
   },
   "cell_type": "code",
   "source": [
    "def is_strong_password(password):\n",
    "    if len(password) < 8:\n",
    "        return False\n",
    "    if not any(char.isdigit() for char in password):\n",
    "        return False\n",
    "    if not any(char.islower() for char in password):\n",
    "        return False\n",
    "    if not any(char.isupper() for char in password):\n",
    "        return False\n",
    "    if not any(char in '!@#$%^&*()_+' for char in password):\n",
    "        return False\n",
    "    return True\n",
    "print(is_strong_password('davood'))\n",
    "print(is_strong_password('Davood'))\n",
    "print(is_strong_password('Davood12'))\n",
    "print(is_strong_password('Davood12#'))"
   ],
   "id": "842ca92d593891fb",
   "outputs": [
    {
     "name": "stdout",
     "output_type": "stream",
     "text": [
      "False\n",
      "False\n",
      "False\n",
      "True\n"
     ]
    }
   ],
   "execution_count": 10
  },
  {
   "metadata": {},
   "cell_type": "markdown",
   "source": "### Calculate Total Cost of Items in the Cart",
   "id": "ecf70e44bccc5cf9"
  },
  {
   "metadata": {
    "ExecuteTime": {
     "end_time": "2025-05-19T06:07:36.500521Z",
     "start_time": "2025-05-19T06:07:36.488352Z"
    }
   },
   "cell_type": "code",
   "source": [
    "def calculate_total_cost(cart):\n",
    "    total_cost = 0\n",
    "    for item in cart:\n",
    "        total_cost += item['price']*item['quantity']\n",
    "    return total_cost\n",
    "\n",
    "cart=[\n",
    "    {'name':'Iphone 15','price':61999,'quantity':3},\n",
    "    {'name':'Pixel 7','price':30999,'quantity':4},\n",
    "    {'name':'Samsung A35','price':19999,'quantity':2},\n",
    "]\n",
    "\n",
    "print(calculate_total_cost(cart))"
   ],
   "id": "83967a62739ac7e2",
   "outputs": [
    {
     "name": "stdout",
     "output_type": "stream",
     "text": [
      "349991\n"
     ]
    }
   ],
   "execution_count": 11
  },
  {
   "metadata": {},
   "cell_type": "markdown",
   "source": "### Check Palindrome Strings",
   "id": "8dfe73fa4f38593"
  },
  {
   "metadata": {
    "ExecuteTime": {
     "end_time": "2025-05-19T06:11:24.300539Z",
     "start_time": "2025-05-19T06:11:24.294304Z"
    }
   },
   "cell_type": "code",
   "source": [
    "def is_palindrome(str):\n",
    "    return str == str[::-1]\n",
    "print(is_palindrome('Iphone 15'))\n",
    "print(is_palindrome('aba'))\n",
    "\n",
    "# For a String Statement\n",
    "\n",
    "def is_palindrome_statement(str):\n",
    "    str=str.lower().replace(' ','')\n",
    "    return str == str[::-1]\n",
    "print(is_palindrome_statement('a man a plan a canal panama'))"
   ],
   "id": "bb71d692765ecbbd",
   "outputs": [
    {
     "name": "stdout",
     "output_type": "stream",
     "text": [
      "False\n",
      "True\n",
      "True\n"
     ]
    }
   ],
   "execution_count": 13
  },
  {
   "metadata": {},
   "cell_type": "markdown",
   "source": "### Factorial of a Number Using Recursion",
   "id": "e1ffb453143c3086"
  },
  {
   "metadata": {
    "ExecuteTime": {
     "end_time": "2025-05-19T06:12:42.905052Z",
     "start_time": "2025-05-19T06:12:42.893213Z"
    }
   },
   "cell_type": "code",
   "source": [
    "def factorial(n):\n",
    "    if n==0:\n",
    "        return 1\n",
    "    else:\n",
    "        return n*factorial(n-1)\n",
    "\n",
    "print(factorial(5))"
   ],
   "id": "aea48d62e83958f9",
   "outputs": [
    {
     "name": "stdout",
     "output_type": "stream",
     "text": [
      "120\n"
     ]
    }
   ],
   "execution_count": 14
  },
  {
   "metadata": {},
   "cell_type": "markdown",
   "source": "### Read file and count frequency of each word",
   "id": "b0adaddf1417908c"
  },
  {
   "metadata": {
    "ExecuteTime": {
     "end_time": "2025-05-19T12:28:26.596497Z",
     "start_time": "2025-05-19T12:28:26.589317Z"
    }
   },
   "cell_type": "code",
   "source": [
    "def count_frequency_of_word(file_path):\n",
    "    word_count={}\n",
    "    with open(file_path,'r') as file:\n",
    "        for line in file:\n",
    "            words = line.split()\n",
    "            for word in words:\n",
    "                word = word.lower().strip('.,!?;:\"\\'')\n",
    "                word_count[word] = word_count.get(word, 0) + 1\n",
    "    return word_count\n",
    "\n",
    "file_path=\"sample.txt\"\n",
    "print(count_frequency_of_word(file_path))"
   ],
   "id": "82edcda13dcca6a5",
   "outputs": [
    {
     "name": "stdout",
     "output_type": "stream",
     "text": [
      "{'hello': 1, 'my': 1, 'name': 1, 'is': 1, 'davood': 1, 'ahmad': 1, 'bhat': 1, 'i': 2, 'am': 2, 'from': 1, 'kashmir': 1, 'a': 1, 'software': 1, 'developer': 1}\n"
     ]
    }
   ],
   "execution_count": 16
  },
  {
   "metadata": {},
   "cell_type": "markdown",
   "source": "### Valid Email Check",
   "id": "9eba3910b784bf86"
  },
  {
   "metadata": {
    "ExecuteTime": {
     "end_time": "2025-05-19T12:32:36.071802Z",
     "start_time": "2025-05-19T12:32:36.066448Z"
    }
   },
   "cell_type": "code",
   "source": [
    "import re\n",
    "\n",
    "\n",
    "def check_valid_email(email):\n",
    "    pattern=r'^[a-zA-Z0-9_.+-]+@[a-zA-Z0-9-]+\\.[a-zA-Z]+$'\n",
    "    return re.match(pattern, email)\n",
    "print(check_valid_email('bhat@'))\n",
    "print(check_valid_email('bhat@gmail.'))\n",
    "print(check_valid_email('bhat@gmail.com'))"
   ],
   "id": "443f8e50245b6e46",
   "outputs": [
    {
     "name": "stdout",
     "output_type": "stream",
     "text": [
      "None\n",
      "None\n",
      "<re.Match object; span=(0, 14), match='bhat@gmail.com'>\n"
     ]
    }
   ],
   "execution_count": 20
  }
 ],
 "metadata": {
  "kernelspec": {
   "display_name": "Python 3",
   "language": "python",
   "name": "python3"
  },
  "language_info": {
   "codemirror_mode": {
    "name": "ipython",
    "version": 2
   },
   "file_extension": ".py",
   "mimetype": "text/x-python",
   "name": "python",
   "nbconvert_exporter": "python",
   "pygments_lexer": "ipython2",
   "version": "2.7.6"
  }
 },
 "nbformat": 4,
 "nbformat_minor": 5
}
