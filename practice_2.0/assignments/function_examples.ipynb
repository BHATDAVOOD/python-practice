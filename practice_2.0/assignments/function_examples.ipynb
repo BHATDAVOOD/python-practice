{
 "cells": [
  {
   "metadata": {},
   "cell_type": "markdown",
   "source": "### Temperature Conversion",
   "id": "5d8bd40c1cc790a0"
  },
  {
   "metadata": {
    "ExecuteTime": {
     "end_time": "2025-05-18T10:49:24.280874Z",
     "start_time": "2025-05-18T10:49:24.273641Z"
    }
   },
   "cell_type": "code",
   "source": [
    "def convert_temperature(temperature,unit):\n",
    "    if unit == 'C':\n",
    "        return temperature * 9 / 5 + 32\n",
    "    elif unit == 'F':\n",
    "        return (temperature-32) * 5 / 9\n",
    "    else:\n",
    "        return None\n",
    "\n",
    "print(convert_temperature(36.8,'C'))\n",
    "print(convert_temperature(98.24,'F'))"
   ],
   "id": "initial_id",
   "outputs": [
    {
     "name": "stdout",
     "output_type": "stream",
     "text": [
      "98.24\n",
      "36.8\n"
     ]
    }
   ],
   "execution_count": 9
  }
 ],
 "metadata": {
  "kernelspec": {
   "display_name": "Python 3",
   "language": "python",
   "name": "python3"
  },
  "language_info": {
   "codemirror_mode": {
    "name": "ipython",
    "version": 2
   },
   "file_extension": ".py",
   "mimetype": "text/x-python",
   "name": "python",
   "nbconvert_exporter": "python",
   "pygments_lexer": "ipython2",
   "version": "2.7.6"
  }
 },
 "nbformat": 4,
 "nbformat_minor": 5
}
