{
 "cells": [
  {
   "metadata": {},
   "cell_type": "markdown",
   "source": "### REAL WORLD USE-CASES OF LISTS",
   "id": "fdff9818f4ef6eac"
  },
  {
   "metadata": {},
   "cell_type": "markdown",
   "source": "##### TO-DO LIST",
   "id": "38576e5b62ed1688"
  },
  {
   "metadata": {
    "ExecuteTime": {
     "end_time": "2025-05-18T07:19:01.007957Z",
     "start_time": "2025-05-18T07:19:01.001141Z"
    }
   },
   "cell_type": "code",
   "source": [
    "from operator import contains\n",
    "\n",
    "my_to_do_list=[\"Buy Groceries\",\"Pay Bills\",\"Walk\"]\n",
    "#Adding Task\n",
    "my_to_do_list.append(\"Run\")\n",
    "my_to_do_list.append(\"Buy Tv\")\n",
    "\n",
    "# Removing a completed task\n",
    "my_to_do_list.remove(\"Walk\")\n",
    "print(my_to_do_list)"
   ],
   "id": "initial_id",
   "outputs": [
    {
     "name": "stdout",
     "output_type": "stream",
     "text": [
      "['Buy Groceries', 'Pay Bills', 'Run', 'Buy Tv']\n"
     ]
    }
   ],
   "execution_count": 2
  },
  {
   "metadata": {},
   "cell_type": "markdown",
   "source": "### ORGANISING THE GRADES",
   "id": "71d1d0fe0ce853e6"
  },
  {
   "metadata": {
    "ExecuteTime": {
     "end_time": "2025-05-18T07:23:33.201550Z",
     "start_time": "2025-05-18T07:23:33.193830Z"
    }
   },
   "cell_type": "code",
   "source": [
    "grades=[7.5,8.0,9.2,6.8]\n",
    "grades.append(8.3)\n",
    "\n",
    "average_grades=sum(grades)/len(grades)\n",
    "print(f'Average grade: {average_grades:.2f}')\n",
    "max_grade = max(grades)\n",
    "print(f'Max grade: {max_grade:.2f}')\n",
    "min_grade = min(grades)\n",
    "print(f'Min grade: {min_grade:.2f}')"
   ],
   "id": "1a7749318c715f3b",
   "outputs": [
    {
     "name": "stdout",
     "output_type": "stream",
     "text": [
      "Average grade: 7.96\n",
      "Max grade: 9.20\n",
      "Min grade: 6.80\n"
     ]
    }
   ],
   "execution_count": 5
  },
  {
   "metadata": {},
   "cell_type": "markdown",
   "source": "### MANAGING INVENTORY",
   "id": "73eb18a71d88a9fa"
  },
  {
   "metadata": {
    "ExecuteTime": {
     "end_time": "2025-05-18T07:26:15.035012Z",
     "start_time": "2025-05-18T07:26:15.025204Z"
    }
   },
   "cell_type": "code",
   "source": [
    "fruits=['apple','banana','orange']\n",
    "fruits.append(\"pear\")\n",
    "\n",
    "if \"strawberry\" in fruits:\n",
    "    print(\"Strawberry is in stock\")\n",
    "else:\n",
    "    print(\"Strawberry is not in stock\")"
   ],
   "id": "5c6ade37ebc096a0",
   "outputs": [
    {
     "name": "stdout",
     "output_type": "stream",
     "text": [
      "Strawberry is not in stock\n"
     ]
    }
   ],
   "execution_count": 7
  },
  {
   "metadata": {},
   "cell_type": "markdown",
   "source": "### CUSTOMER FEEDBACK",
   "id": "a44f65fbab8455ad"
  },
  {
   "metadata": {
    "ExecuteTime": {
     "end_time": "2025-05-18T07:30:58.889934Z",
     "start_time": "2025-05-18T07:30:58.874352Z"
    }
   },
   "cell_type": "code",
   "source": [
    "feedbacks=[\"Great Service\",\"Excellent Service\",\"Satisfied\",\"Could be better\"]\n",
    "feedbacks.append(\"Not happy\")\n",
    "\n",
    "# Count Positive Feedback\n",
    "positive_feedback = sum(1 for feedback in feedbacks if \"great\" in feedback.lower() or \"excellent\" in feedback.lower())\n",
    "print(f'Positive feedback: {positive_feedback}')"
   ],
   "id": "9fa7d6ddaf440af3",
   "outputs": [
    {
     "name": "stdout",
     "output_type": "stream",
     "text": [
      "Positive feedback: 2\n"
     ]
    }
   ],
   "execution_count": 8
  }
 ],
 "metadata": {
  "kernelspec": {
   "display_name": "Python 3",
   "language": "python",
   "name": "python3"
  },
  "language_info": {
   "codemirror_mode": {
    "name": "ipython",
    "version": 2
   },
   "file_extension": ".py",
   "mimetype": "text/x-python",
   "name": "python",
   "nbconvert_exporter": "python",
   "pygments_lexer": "ipython2",
   "version": "2.7.6"
  }
 },
 "nbformat": 4,
 "nbformat_minor": 5
}
