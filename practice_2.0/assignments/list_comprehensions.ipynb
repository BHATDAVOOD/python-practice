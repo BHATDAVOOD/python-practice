{
 "cells": [
  {
   "metadata": {},
   "cell_type": "markdown",
   "source": "### Create a list of the first 20 positive integers. Print the list.",
   "id": "15e2c943009fc44b"
  },
  {
   "metadata": {
    "ExecuteTime": {
     "end_time": "2025-05-17T09:20:34.209854Z",
     "start_time": "2025-05-17T09:20:34.200353Z"
    }
   },
   "cell_type": "code",
   "source": [
    "numbers=[1,2,3,4,5,6,7,8,9,10,11,12,13,14,15,16,17,18,19,20]\n",
    "for number in numbers:\n",
    "    print(number,end=' ')"
   ],
   "id": "initial_id",
   "outputs": [
    {
     "name": "stdout",
     "output_type": "stream",
     "text": [
      "1 2 3 4 5 6 7 8 9 10 11 12 13 14 15 16 17 18 19 20 "
     ]
    }
   ],
   "execution_count": 2
  },
  {
   "metadata": {},
   "cell_type": "markdown",
   "source": "### Print the first, middle, and last elements of the list created in Assignment 1.",
   "id": "a12da25c280c0de3"
  },
  {
   "metadata": {
    "ExecuteTime": {
     "end_time": "2025-05-17T09:24:18.856768Z",
     "start_time": "2025-05-17T09:24:18.848340Z"
    }
   },
   "cell_type": "code",
   "source": [
    "print(numbers[0]) # Print Firs\n",
    "print(numbers[-1]) # Print last\n",
    "print(numbers[len(numbers)//2]) # Middle Element"
   ],
   "id": "1e94c90f93038da4",
   "outputs": [
    {
     "name": "stdout",
     "output_type": "stream",
     "text": [
      "1\n",
      "20\n",
      "11\n"
     ]
    }
   ],
   "execution_count": 7
  },
  {
   "metadata": {},
   "cell_type": "markdown",
   "source": "#### Print the first five elements, the last five elements, and the elements from index 5 to 15 of the list created in Assignment 1.\n",
   "id": "97f26343f7c81156"
  },
  {
   "metadata": {
    "ExecuteTime": {
     "end_time": "2025-05-17T09:26:54.676530Z",
     "start_time": "2025-05-17T09:26:54.669242Z"
    }
   },
   "cell_type": "code",
   "source": [
    "print(numbers[:5])\n",
    "print(numbers[len(numbers)//2 + 5:])\n",
    "print(numbers[4:15])"
   ],
   "id": "d7d44932d84c8fd5",
   "outputs": [
    {
     "name": "stdout",
     "output_type": "stream",
     "text": [
      "[1, 2, 3, 4, 5]\n",
      "[16, 17, 18, 19, 20]\n",
      "[5, 6, 7, 8, 9, 10, 11, 12, 13, 14, 15]\n"
     ]
    }
   ],
   "execution_count": 9
  },
  {
   "metadata": {},
   "cell_type": "markdown",
   "source": "#### Create a new list containing the squares of the first 10 positive integers using a list comprehension. Print the new list.\n",
   "id": "874035b35b962f59"
  },
  {
   "metadata": {
    "ExecuteTime": {
     "end_time": "2025-05-17T09:28:42.785023Z",
     "start_time": "2025-05-17T09:28:42.777583Z"
    }
   },
   "cell_type": "code",
   "source": [
    "squares = [number**2 for number in range(1,11)]\n",
    "print(squares)"
   ],
   "id": "9cb03a854d6aa312",
   "outputs": [
    {
     "name": "stdout",
     "output_type": "stream",
     "text": [
      "[1, 4, 9, 16, 25, 36, 49, 64, 81, 100]\n"
     ]
    }
   ],
   "execution_count": 12
  },
  {
   "metadata": {},
   "cell_type": "markdown",
   "source": "#### Create a new list containing only the even numbers from the list created in Assignment 1 using a list comprehension. Print the new list.\n",
   "id": "983873704ff6d89e"
  },
  {
   "metadata": {
    "ExecuteTime": {
     "end_time": "2025-05-17T09:30:35.745120Z",
     "start_time": "2025-05-17T09:30:35.737377Z"
    }
   },
   "cell_type": "code",
   "source": [
    "even_numbers = [number for number in numbers if number % 2 == 0]\n",
    "print(even_numbers)"
   ],
   "id": "ac57d8c03adf4fcf",
   "outputs": [
    {
     "name": "stdout",
     "output_type": "stream",
     "text": [
      "[2, 4, 6, 8, 10, 12, 14, 16, 18, 20]\n"
     ]
    }
   ],
   "execution_count": 13
  },
  {
   "metadata": {},
   "cell_type": "markdown",
   "source": "#### Create a list of random numbers and sort it in ascending and descending order. Remove the duplicates from the list and print the modified list.\n",
   "id": "4c68a9b326b612bf"
  },
  {
   "metadata": {
    "ExecuteTime": {
     "end_time": "2025-05-17T09:35:12.578029Z",
     "start_time": "2025-05-17T09:35:12.571800Z"
    }
   },
   "cell_type": "code",
   "source": [
    "import random\n",
    "random_numbers = [random.randint(1,20) for _ in range(10)]\n",
    "print(\"original list : \",random_numbers)\n",
    "sorted_random_numbers = sorted(random_numbers)\n",
    "print(\"sorted list : \",sorted_random_numbers)\n",
    "sorted_random_numbers_desc=sorted(random_numbers,reverse=True)\n",
    "print(\"sorted list in descending order : \",sorted_random_numbers_desc)\n",
    "unique_numbers = list(set(random_numbers)) # Remove Duplicate\n",
    "print(\"unique numbers : \",unique_numbers)"
   ],
   "id": "c03ef7cf92c7810d",
   "outputs": [
    {
     "name": "stdout",
     "output_type": "stream",
     "text": [
      "original list :  [3, 10, 17, 14, 7, 20, 4, 4, 11, 20]\n",
      "sorted list :  [3, 4, 4, 7, 10, 11, 14, 17, 20, 20]\n",
      "sorted list in descending order :  [20, 20, 17, 14, 11, 10, 7, 4, 4, 3]\n",
      "unique numbers :  [3, 4, 7, 10, 11, 14, 17, 20]\n"
     ]
    }
   ],
   "execution_count": 16
  }
 ],
 "metadata": {
  "kernelspec": {
   "display_name": "Python 3",
   "language": "python",
   "name": "python3"
  },
  "language_info": {
   "codemirror_mode": {
    "name": "ipython",
    "version": 2
   },
   "file_extension": ".py",
   "mimetype": "text/x-python",
   "name": "python",
   "nbconvert_exporter": "python",
   "pygments_lexer": "ipython2",
   "version": "2.7.6"
  }
 },
 "nbformat": 4,
 "nbformat_minor": 5
}
