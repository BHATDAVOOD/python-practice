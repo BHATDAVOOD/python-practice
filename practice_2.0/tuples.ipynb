{
 "cells": [
  {
   "metadata": {},
   "cell_type": "markdown",
   "source": "### Tuples are ordered collections of items that are immutable. They are similar to Lists but their immutability makes them apart",
   "id": "ece2977a3ed4ef93"
  },
  {
   "metadata": {
    "ExecuteTime": {
     "end_time": "2025-05-17T09:43:00.211507Z",
     "start_time": "2025-05-17T09:43:00.202591Z"
    }
   },
   "cell_type": "code",
   "source": [
    "tuple1 = (1, 2, 3)\n",
    "print(tuple1)\n",
    "print(type(tuple1))\n",
    "\n",
    "# Tuples can also be created using tuple() function\n",
    "tuple2= tuple((1,2,3))\n",
    "print(tuple2)\n",
    "print(type(tuple2))"
   ],
   "id": "initial_id",
   "outputs": [
    {
     "name": "stdout",
     "output_type": "stream",
     "text": [
      "(1, 2, 3)\n",
      "<class 'tuple'>\n",
      "(1, 2, 3)\n",
      "<class 'tuple'>\n"
     ]
    }
   ],
   "execution_count": 4
  },
  {
   "metadata": {},
   "cell_type": "markdown",
   "source": "#### Accessing Tuple Elements & Slicing",
   "id": "c250026fceb03b14"
  },
  {
   "metadata": {
    "ExecuteTime": {
     "end_time": "2025-05-17T09:46:06.497795Z",
     "start_time": "2025-05-17T09:46:06.491614Z"
    }
   },
   "cell_type": "code",
   "source": [
    "print(tuple1[0]) # First Element\n",
    "print(tuple2[-1]) # Last element\n",
    "\n",
    "print(tuple1[0:2])\n",
    "print(tuple1[::-1]) # Reverse"
   ],
   "id": "25f38bae117bb854",
   "outputs": [
    {
     "name": "stdout",
     "output_type": "stream",
     "text": [
      "1\n",
      "3\n",
      "(1, 2)\n",
      "(3, 2, 1)\n"
     ]
    }
   ],
   "execution_count": 7
  },
  {
   "metadata": {},
   "cell_type": "markdown",
   "source": "#### Tuple Operations",
   "id": "421395cb661b40c9"
  },
  {
   "metadata": {
    "ExecuteTime": {
     "end_time": "2025-05-17T09:48:26.839719Z",
     "start_time": "2025-05-17T09:48:26.833416Z"
    }
   },
   "cell_type": "code",
   "source": [
    "# Concatenation\n",
    "numbers=(1,2,3,4,5)\n",
    "mixed=(7,'name',True)\n",
    "concatenated_tuple= numbers + mixed\n",
    "print(concatenated_tuple)"
   ],
   "id": "3e2ee03295226d1b",
   "outputs": [
    {
     "name": "stdout",
     "output_type": "stream",
     "text": [
      "(1, 2, 3, 4, 5, 7, 'name', True)\n"
     ]
    }
   ],
   "execution_count": 8
  },
  {
   "metadata": {
    "ExecuteTime": {
     "end_time": "2025-05-17T09:49:30.808445Z",
     "start_time": "2025-05-17T09:49:30.800160Z"
    }
   },
   "cell_type": "code",
   "source": [
    "# Append or Repeat\n",
    "mixed * 3"
   ],
   "id": "5b4891531c3fc268",
   "outputs": [
    {
     "data": {
      "text/plain": [
       "(7, 'name', True, 7, 'name', True, 7, 'name', True)"
      ]
     },
     "execution_count": 9,
     "metadata": {},
     "output_type": "execute_result"
    }
   ],
   "execution_count": 9
  },
  {
   "metadata": {},
   "cell_type": "markdown",
   "source": "### Immutable Nature of Tuples",
   "id": "96337351ce3ce268"
  },
  {
   "metadata": {
    "ExecuteTime": {
     "end_time": "2025-05-17T09:52:56.318086Z",
     "start_time": "2025-05-17T09:52:56.312240Z"
    }
   },
   "cell_type": "code",
   "source": [
    "# Elements can not be changed once assigned\n",
    "# numbers[1]='bhat' # This will give error saying 'tuple' object does not support item assignment\n",
    "print(numbers)"
   ],
   "id": "eb13e74c9e6e2fa2",
   "outputs": [
    {
     "name": "stdout",
     "output_type": "stream",
     "text": [
      "(1, 2, 3, 4, 5)\n"
     ]
    }
   ],
   "execution_count": 12
  },
  {
   "metadata": {},
   "cell_type": "markdown",
   "source": "### Tuple Methods",
   "id": "993a44da97a27dae"
  },
  {
   "metadata": {
    "ExecuteTime": {
     "end_time": "2025-05-17T09:58:03.646167Z",
     "start_time": "2025-05-17T09:58:03.637822Z"
    }
   },
   "cell_type": "code",
   "source": [
    "print(numbers)\n",
    "for index,number in enumerate(numbers):\n",
    "    print((index,number),end='\\t')\n",
    "print()\n",
    "print(numbers.count(1)) # Count occurrences of the given number\n",
    "print(numbers.index(3)) # Finds the index of the given value"
   ],
   "id": "5c1f398aff477af3",
   "outputs": [
    {
     "name": "stdout",
     "output_type": "stream",
     "text": [
      "(1, 2, 3, 4, 5)\n",
      "(0, 1)\t(1, 2)\t(2, 3)\t(3, 4)\t(4, 5)\t\n",
      "1\n",
      "2\n"
     ]
    }
   ],
   "execution_count": 23
  },
  {
   "metadata": {},
   "cell_type": "markdown",
   "source": "### Packing and Unpacking",
   "id": "8e84cb219a85a8eb"
  },
  {
   "metadata": {},
   "cell_type": "code",
   "outputs": [],
   "execution_count": null,
   "source": "",
   "id": "ae8f91fd106a084f"
  }
 ],
 "metadata": {
  "kernelspec": {
   "display_name": "Python 3",
   "language": "python",
   "name": "python3"
  },
  "language_info": {
   "codemirror_mode": {
    "name": "ipython",
    "version": 2
   },
   "file_extension": ".py",
   "mimetype": "text/x-python",
   "name": "python",
   "nbconvert_exporter": "python",
   "pygments_lexer": "ipython2",
   "version": "2.7.6"
  }
 },
 "nbformat": 4,
 "nbformat_minor": 5
}
