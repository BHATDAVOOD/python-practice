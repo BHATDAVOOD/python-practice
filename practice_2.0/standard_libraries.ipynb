{
 "cells": [
  {
   "metadata": {},
   "cell_type": "markdown",
   "source": "### Some Standard Libraries",
   "id": "668fd08322aacc05"
  },
  {
   "metadata": {},
   "cell_type": "markdown",
   "source": "##### Data Serialization",
   "id": "900fc6e2ebc5c0b2"
  },
  {
   "metadata": {
    "ExecuteTime": {
     "end_time": "2025-05-22T15:38:31.899835Z",
     "start_time": "2025-05-22T15:38:31.893478Z"
    }
   },
   "cell_type": "code",
   "source": [
    "import json\n",
    "\n",
    "data={'name':'Davood','age':31,'address':'Gariseer'}\n",
    "# Convert json to str\n",
    "json_str=json.dumps(data)\n",
    "print(json_str)\n",
    "print(type(json_str))\n",
    "\n",
    "# Convert str data back to json\n",
    "parsed_json=json.loads(json_str)\n",
    "print(parsed_json)\n",
    "print(type(parsed_json))"
   ],
   "id": "initial_id",
   "outputs": [
    {
     "name": "stdout",
     "output_type": "stream",
     "text": [
      "{\"name\": \"Davood\", \"age\": 31, \"address\": \"Gariseer\"}\n",
      "<class 'str'>\n",
      "{'name': 'Davood', 'age': 31, 'address': 'Gariseer'}\n",
      "<class 'dict'>\n"
     ]
    }
   ],
   "execution_count": 1
  },
  {
   "metadata": {},
   "cell_type": "markdown",
   "source": "### CSV",
   "id": "3708d2007ca4fbf1"
  },
  {
   "metadata": {
    "ExecuteTime": {
     "end_time": "2025-05-22T15:42:12.897326Z",
     "start_time": "2025-05-22T15:42:12.884955Z"
    }
   },
   "cell_type": "code",
   "source": [
    "import csv\n",
    "# This will create a csv file and open in write mode and we will add the data using writer function\n",
    "with open('example.csv','w',newline='') as csvfile:\n",
    "    writer = csv.writer(csvfile)\n",
    "    writer.writerow(['id','name','age'])\n",
    "    writer.writerow(['1','Davood','31'])\n",
    "    writer.writerow(['2','Adil','31'])\n",
    "    writer.writerow(['3','Sameer','34'])\n",
    "    writer.writerow(['4','Aqib','30'])\n",
    "\n",
    "# This will now open in read mode and we will read the data using reader function\n",
    "with open('example.csv','r',newline='') as csvfile:\n",
    "    reader = csv.reader(csvfile)\n",
    "    for row in reader:\n",
    "        print(row)"
   ],
   "id": "6cccf02476da0500",
   "outputs": [
    {
     "name": "stdout",
     "output_type": "stream",
     "text": [
      "['id', 'name', 'age']\n",
      "['1', 'Davood', '31']\n",
      "['2', 'Adil', '31']\n",
      "['3', 'Sameer', '34']\n",
      "['4', 'Aqib', '30']\n"
     ]
    }
   ],
   "execution_count": 2
  }
 ],
 "metadata": {
  "kernelspec": {
   "display_name": "Python 3",
   "language": "python",
   "name": "python3"
  },
  "language_info": {
   "codemirror_mode": {
    "name": "ipython",
    "version": 2
   },
   "file_extension": ".py",
   "mimetype": "text/x-python",
   "name": "python",
   "nbconvert_exporter": "python",
   "pygments_lexer": "ipython2",
   "version": "2.7.6"
  }
 },
 "nbformat": 4,
 "nbformat_minor": 5
}
