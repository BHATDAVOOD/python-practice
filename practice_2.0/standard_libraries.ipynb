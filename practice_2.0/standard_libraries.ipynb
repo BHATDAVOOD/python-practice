{
 "cells": [
  {
   "metadata": {},
   "cell_type": "markdown",
   "source": "### Some Standard Libraries",
   "id": "668fd08322aacc05"
  },
  {
   "metadata": {},
   "cell_type": "markdown",
   "source": "##### Data Serialization",
   "id": "900fc6e2ebc5c0b2"
  },
  {
   "metadata": {
    "ExecuteTime": {
     "end_time": "2025-05-22T15:38:31.899835Z",
     "start_time": "2025-05-22T15:38:31.893478Z"
    }
   },
   "cell_type": "code",
   "source": [
    "import json\n",
    "\n",
    "data={'name':'Davood','age':31,'address':'Gariseer'}\n",
    "# Convert json to str\n",
    "json_str=json.dumps(data)\n",
    "print(json_str)\n",
    "print(type(json_str))\n",
    "\n",
    "# Convert str data back to json\n",
    "parsed_json=json.loads(json_str)\n",
    "print(parsed_json)\n",
    "print(type(parsed_json))"
   ],
   "id": "initial_id",
   "outputs": [
    {
     "name": "stdout",
     "output_type": "stream",
     "text": [
      "{\"name\": \"Davood\", \"age\": 31, \"address\": \"Gariseer\"}\n",
      "<class 'str'>\n",
      "{'name': 'Davood', 'age': 31, 'address': 'Gariseer'}\n",
      "<class 'dict'>\n"
     ]
    }
   ],
   "execution_count": 1
  }
 ],
 "metadata": {
  "kernelspec": {
   "display_name": "Python 3",
   "language": "python",
   "name": "python3"
  },
  "language_info": {
   "codemirror_mode": {
    "name": "ipython",
    "version": 2
   },
   "file_extension": ".py",
   "mimetype": "text/x-python",
   "name": "python",
   "nbconvert_exporter": "python",
   "pygments_lexer": "ipython2",
   "version": "2.7.6"
  }
 },
 "nbformat": 4,
 "nbformat_minor": 5
}
