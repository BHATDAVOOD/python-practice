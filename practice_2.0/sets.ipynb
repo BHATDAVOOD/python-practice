{
 "cells": [
  {
   "metadata": {},
   "cell_type": "markdown",
   "source": [
    "#### Sets are collection of unordered items, meaning no order will be maintained.\n",
    "Sets also store unique items only. No Duplicate is allowed\n",
    "\n",
    "Useful for performing mathematical set operations like UNION,INTERSECTION,DIFFERENCE,SYMMETRIC DIFFERENCE"
   ],
   "id": "c40be5ff880ad0d6"
  },
  {
   "metadata": {},
   "cell_type": "markdown",
   "source": "### Set Creation",
   "id": "7220268e811304c7"
  },
  {
   "metadata": {
    "ExecuteTime": {
     "end_time": "2025-05-17T11:14:03.735160Z",
     "start_time": "2025-05-17T11:14:03.728948Z"
    }
   },
   "cell_type": "code",
   "source": [
    "my_set = set()\n",
    "print(my_set)\n",
    "print(type(my_set))"
   ],
   "id": "initial_id",
   "outputs": [
    {
     "name": "stdout",
     "output_type": "stream",
     "text": [
      "set()\n",
      "<class 'set'>\n",
      "{1, 2, 3, 4, 5, 6, 7}\n",
      "{1, 2, 3, 4, 5, 7}\n"
     ]
    }
   ],
   "execution_count": 6
  },
  {
   "metadata": {},
   "cell_type": "markdown",
   "source": "### Adding and Removing Elements",
   "id": "84779768e1fd1243"
  },
  {
   "metadata": {
    "ExecuteTime": {
     "end_time": "2025-05-17T11:16:07.247008Z",
     "start_time": "2025-05-17T11:16:07.241231Z"
    }
   },
   "cell_type": "code",
   "source": [
    "my_set1={1,2,3,4,5}\n",
    "my_set1.add(6)\n",
    "my_set1.add(7)\n",
    "print(my_set1)\n",
    "\n",
    "my_set1.remove(6) # Removes the element but gives error if the element does not exist in the Set\n",
    "my_set1.discard(7) # Removes the element but does not give the error if the element does not exist in the Set\n",
    "print(my_set1)"
   ],
   "id": "e2f3a0008f5ed5eb",
   "outputs": [
    {
     "name": "stdout",
     "output_type": "stream",
     "text": [
      "{1, 2, 3, 4, 5, 6, 7}\n",
      "{1, 2, 3, 4, 5}\n"
     ]
    }
   ],
   "execution_count": 7
  }
 ],
 "metadata": {
  "kernelspec": {
   "display_name": "Python 3",
   "language": "python",
   "name": "python3"
  },
  "language_info": {
   "codemirror_mode": {
    "name": "ipython",
    "version": 2
   },
   "file_extension": ".py",
   "mimetype": "text/x-python",
   "name": "python",
   "nbconvert_exporter": "python",
   "pygments_lexer": "ipython2",
   "version": "2.7.6"
  }
 },
 "nbformat": 4,
 "nbformat_minor": 5
}
