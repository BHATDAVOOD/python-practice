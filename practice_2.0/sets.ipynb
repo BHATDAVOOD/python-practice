{
 "cells": [
  {
   "metadata": {},
   "cell_type": "markdown",
   "source": [
    "#### Sets are collection of unordered items, meaning no order will be maintained.\n",
    "Sets also store unique items only. No Duplicate is allowed\n",
    "\n",
    "Useful for performing mathematical set operations like UNION,INTERSECTION,DIFFERENCE,SYMMETRIC DIFFERENCE"
   ],
   "id": "c40be5ff880ad0d6"
  },
  {
   "metadata": {},
   "cell_type": "markdown",
   "source": "### Set Creation",
   "id": "7220268e811304c7"
  },
  {
   "metadata": {
    "ExecuteTime": {
     "end_time": "2025-05-17T11:14:03.735160Z",
     "start_time": "2025-05-17T11:14:03.728948Z"
    }
   },
   "cell_type": "code",
   "source": [
    "my_set = set()\n",
    "print(my_set)\n",
    "print(type(my_set))"
   ],
   "id": "initial_id",
   "outputs": [
    {
     "name": "stdout",
     "output_type": "stream",
     "text": [
      "set()\n",
      "<class 'set'>\n",
      "{1, 2, 3, 4, 5, 6, 7}\n",
      "{1, 2, 3, 4, 5, 7}\n"
     ]
    }
   ],
   "execution_count": 6
  },
  {
   "metadata": {},
   "cell_type": "markdown",
   "source": "### Adding and Removing Elements",
   "id": "84779768e1fd1243"
  },
  {
   "metadata": {
    "ExecuteTime": {
     "end_time": "2025-05-17T12:05:34.766012Z",
     "start_time": "2025-05-17T12:05:34.751366Z"
    }
   },
   "cell_type": "code",
   "source": [
    "my_set1={1,2,3,4,5}\n",
    "my_set1.add(6)\n",
    "my_set1.add(7)\n",
    "print(my_set1)\n",
    "\n",
    "my_set1.remove(6) # Removes the element but gives error if the element does not exist in the Set\n",
    "my_set1.discard(7) # Removes the element but does not give the error if the element does not exist in the Set\n",
    "print(my_set1)\n",
    "popped_element=my_set1.pop() # Removes random element\n",
    "print(my_set1)\n",
    "\n",
    "## Clear all the elements\n",
    "my_set1.clear()\n",
    "print(my_set1)"
   ],
   "id": "e2f3a0008f5ed5eb",
   "outputs": [
    {
     "name": "stdout",
     "output_type": "stream",
     "text": [
      "{1, 2, 3, 4, 5, 6, 7}\n",
      "{1, 2, 3, 4, 5}\n",
      "{2, 3, 4, 5}\n",
      "set()\n"
     ]
    }
   ],
   "execution_count": 9
  },
  {
   "metadata": {},
   "cell_type": "markdown",
   "source": [
    "### SET Membership Test\n",
    "This is used to check whether element is member of a set or not"
   ],
   "id": "e40a377a0cb8cca9"
  },
  {
   "metadata": {
    "ExecuteTime": {
     "end_time": "2025-05-17T12:07:10.151755Z",
     "start_time": "2025-05-17T12:07:10.136255Z"
    }
   },
   "cell_type": "code",
   "source": [
    "new_numbers={1,2,3,4,5}\n",
    "print(7 in new_numbers)\n",
    "print(5 in new_numbers)"
   ],
   "id": "47db112e4148ecf7",
   "outputs": [
    {
     "name": "stdout",
     "output_type": "stream",
     "text": [
      "False\n",
      "True\n"
     ]
    }
   ],
   "execution_count": 10
  },
  {
   "metadata": {},
   "cell_type": "markdown",
   "source": [
    "### Mathematical Operations\n",
    "##### UNION : All the elements from all the sets on which union is performed\n",
    "##### INTERSECTION : Common elements from the sets\n",
    "##### DIFFERENCE : set_a.difference(set_b) -> common elements from set_a will be removed and only others will be printed\n",
    "##### SYMMETRIC DIFFERENCE"
   ],
   "id": "fa71dcf00e7f9287"
  },
  {
   "metadata": {
    "ExecuteTime": {
     "end_time": "2025-05-17T12:13:44.110413Z",
     "start_time": "2025-05-17T12:13:44.100650Z"
    }
   },
   "cell_type": "code",
   "source": [
    "set_a={1,2,3,4,5,7,8}\n",
    "set_b={5,7,8,9,10}\n",
    "\n",
    "## Union\n",
    "union_set=set_a.union(set_b)\n",
    "print(union_set)\n",
    "\n",
    "## Intersection\n",
    "intersection_set=set_a.intersection(set_b)\n",
    "print(intersection_set)\n",
    "\n",
    "## Intersection Update : The set on which this command is operated, all its elements will be replaced by common intersection elements\n",
    "set_a.intersection_update(set_b)\n",
    "print(set_a)"
   ],
   "id": "fd891e53892c7d61",
   "outputs": [
    {
     "name": "stdout",
     "output_type": "stream",
     "text": [
      "{1, 2, 3, 4, 5, 7, 8, 9, 10}\n",
      "{8, 5, 7}\n",
      "{8, 5, 7}\n"
     ]
    }
   ],
   "execution_count": 18
  },
  {
   "metadata": {},
   "cell_type": "markdown",
   "source": "##### DIFFERENCE & DIFFERENCE_UPDATE",
   "id": "f532c546e7b55ce1"
  },
  {
   "metadata": {
    "ExecuteTime": {
     "end_time": "2025-05-17T12:17:26.761651Z",
     "start_time": "2025-05-17T12:17:26.756063Z"
    }
   },
   "cell_type": "code",
   "source": [
    "diff1={1,2,3,4,5}\n",
    "diff2={1,2,3,6}\n",
    "print(diff1.difference(diff2))\n",
    "print(diff2.difference(diff1))\n",
    "\n",
    "## difference_update will update the elements of the set with the difference between 2 sets"
   ],
   "id": "6a768c158281f9a0",
   "outputs": [
    {
     "name": "stdout",
     "output_type": "stream",
     "text": [
      "{4, 5}\n",
      "{6}\n"
     ]
    }
   ],
   "execution_count": 21
  },
  {
   "metadata": {},
   "cell_type": "markdown",
   "source": [
    "### SYMMETRIC DIFFERENCE : Unique elements from both the sets are combined\n",
    "set_a={1,2,3,4,5}\n",
    "\n",
    "set_b={1,5,6,7}\n",
    "\n",
    "symmetric_diff=diff1.symmetric_difference(diff2) -> 2,3,4,6,7"
   ],
   "id": "2fa7f1d3b4c219dc"
  },
  {
   "metadata": {
    "ExecuteTime": {
     "end_time": "2025-05-17T12:23:45.749938Z",
     "start_time": "2025-05-17T12:23:45.742919Z"
    }
   },
   "cell_type": "code",
   "source": [
    "print('diff1 : {}, diff2 : {}'.format(diff1, diff2))\n",
    "symmetric_diff = diff1.symmetric_difference(diff2)\n",
    "print(symmetric_diff)"
   ],
   "id": "a63119a6a00023e6",
   "outputs": [
    {
     "name": "stdout",
     "output_type": "stream",
     "text": [
      "diff1 : {1, 2, 3, 4, 5}, diff2 : {1, 2, 3, 6}\n",
      "{4, 5, 6}\n"
     ]
    }
   ],
   "execution_count": 23
  },
  {
   "metadata": {},
   "cell_type": "markdown",
   "source": "### SET Methods",
   "id": "81c210e22a8df1eb"
  },
  {
   "metadata": {
    "ExecuteTime": {
     "end_time": "2025-05-17T12:45:27.360326Z",
     "start_time": "2025-05-17T12:45:27.348949Z"
    }
   },
   "cell_type": "code",
   "source": [
    "set1={1,2,3,4,5}\n",
    "set2 = {1,2,3,4,5}\n",
    "print(set1.issubset(set2))\n",
    "print(set2.issuperset(set1))\n",
    "print(set1.isdisjoint(set2))\n",
    "set3={1,2,3,4,5}\n",
    "set4={6,7,8,9,10}\n",
    "print(set3.isdisjoint(set4))"
   ],
   "id": "15258e558b6f8f37",
   "outputs": [
    {
     "name": "stdout",
     "output_type": "stream",
     "text": [
      "True\n",
      "True\n",
      "False\n",
      "True\n"
     ]
    }
   ],
   "execution_count": 27
  },
  {
   "metadata": {},
   "cell_type": "markdown",
   "source": "### A Practical Basic Example",
   "id": "953cbdb1f4a6bf2a"
  },
  {
   "metadata": {
    "ExecuteTime": {
     "end_time": "2025-05-17T12:52:10.654552Z",
     "start_time": "2025-05-17T12:52:10.646972Z"
    }
   },
   "cell_type": "code",
   "source": [
    "# Reverse each word in a string\n",
    "sentence='my name is davood ahmad bhat'\n",
    "arr=sentence.split()\n",
    "print(arr)\n",
    "print(type(arr))\n",
    "for word in arr:\n",
    "    print(word[::-1],end=' ')"
   ],
   "id": "7667cf2c48330dd0",
   "outputs": [
    {
     "name": "stdout",
     "output_type": "stream",
     "text": [
      "['my', 'name', 'is', 'davood', 'ahmad', 'bhat']\n",
      "<class 'list'>\n",
      "ym eman si doovad damha tahb "
     ]
    }
   ],
   "execution_count": 30
  }
 ],
 "metadata": {
  "kernelspec": {
   "display_name": "Python 3",
   "language": "python",
   "name": "python3"
  },
  "language_info": {
   "codemirror_mode": {
    "name": "ipython",
    "version": 2
   },
   "file_extension": ".py",
   "mimetype": "text/x-python",
   "name": "python",
   "nbconvert_exporter": "python",
   "pygments_lexer": "ipython2",
   "version": "2.7.6"
  }
 },
 "nbformat": 4,
 "nbformat_minor": 5
}
