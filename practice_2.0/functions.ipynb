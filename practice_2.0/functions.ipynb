{
 "cells": [
  {
   "metadata": {},
   "cell_type": "markdown",
   "source": [
    "## FUNCTIONS IN PYTHON\n",
    "##### BLOCK OF CODE THAT PERFORM A SPECIFIC TASK\n",
    "##### FUNCTIONS HELP IN ORGANISING CODE, RE-USING CODE AND IMPROVING READABILITY"
   ],
   "id": "2cdd0817f8b6f334"
  },
  {
   "metadata": {
    "ExecuteTime": {
     "end_time": "2025-05-18T10:17:52.548365Z",
     "start_time": "2025-05-18T10:17:52.538594Z"
    }
   },
   "cell_type": "code",
   "source": [
    "## Why functions?\n",
    "## Check Number is even or odd\n",
    "num=24\n",
    "if num%2==0:\n",
    "    print(\"even\")\n",
    "else:\n",
    "    print(\"odd\")\n",
    "\n",
    "# This is not scalable if we need to reuse this. This can be achieved by functions\n",
    "def even_or_odd(number):\n",
    "    if number%2==0:\n",
    "        print(\"even\")\n",
    "    else:\n",
    "        print(\"odd\")\n",
    "\n",
    "even_or_odd(num) # REUSE\n",
    "even_or_odd(31) # REUSE"
   ],
   "id": "initial_id",
   "outputs": [
    {
     "name": "stdout",
     "output_type": "stream",
     "text": [
      "even\n",
      "even\n",
      "odd\n"
     ]
    }
   ],
   "execution_count": 2
  },
  {
   "metadata": {},
   "cell_type": "markdown",
   "source": "##### Function with multiple parameters",
   "id": "ad32a626932881cc"
  },
  {
   "metadata": {
    "ExecuteTime": {
     "end_time": "2025-05-18T10:20:37.839838Z",
     "start_time": "2025-05-18T10:20:37.834147Z"
    }
   },
   "cell_type": "code",
   "source": [
    "def sum_numbers(num1, num2):\n",
    "    return num1+num2\n",
    "\n",
    "print(sum_numbers(3, 4))\n",
    "print(sum_numbers(1, 9))"
   ],
   "id": "ee620b27208186c9",
   "outputs": [
    {
     "name": "stdout",
     "output_type": "stream",
     "text": [
      "7\n",
      "10\n"
     ]
    }
   ],
   "execution_count": 5
  },
  {
   "metadata": {},
   "cell_type": "markdown",
   "source": "##### Default Parameters in Functions",
   "id": "9a18223d55f4a5e7"
  },
  {
   "metadata": {
    "ExecuteTime": {
     "end_time": "2025-05-18T10:23:19.063289Z",
     "start_time": "2025-05-18T10:23:19.054129Z"
    }
   },
   "cell_type": "code",
   "source": [
    "def greeting(name=\"Guest\"): # Default value is Guest\n",
    "    print(f\"Hello : {name}\")\n",
    "greeting()"
   ],
   "id": "ada34af36efa214c",
   "outputs": [
    {
     "name": "stdout",
     "output_type": "stream",
     "text": [
      "Hello : Guest\n"
     ]
    }
   ],
   "execution_count": 8
  },
  {
   "metadata": {},
   "cell_type": "markdown",
   "source": [
    "### Variable Length Arguments\n",
    "##### Positional and Keyword Arguments\n",
    "###### Positional Arguments -> In this type of arguments, we need to be pretty sure about the arguments. Suppose first parameter is name, so our first argument should be name only otherwise there could be discrepancies in our output\n",
    "###### Keyword Arguments -> In this type of arguments, we don't need to worry about the order of arguments as we will provide the keyword with arguments like name='davood',email='email@gmail.com'\n",
    "\n"
   ],
   "id": "4007b4ab5387a2f0"
  },
  {
   "metadata": {},
   "cell_type": "markdown",
   "source": "#### Positional Arguments",
   "id": "87b9b591b7a7262f"
  },
  {
   "metadata": {},
   "cell_type": "code",
   "outputs": [
    {
     "name": "stdout",
     "output_type": "stream",
     "text": [
      "Hello, bhat, you are 31 years old and you have scored 67 marks\n",
      "Hello, 31, you are ahmad years old and you have scored 67 marks\n",
      "(1, 2, 3, 4, 5)\n"
     ]
    }
   ],
   "execution_count": 10,
   "source": [
    "def positional_args(marks,name,age):\n",
    "    print(f\"Hello, {name}, you are {age} years old and you have scored {marks} marks\")\n",
    "\n",
    "positional_args(67,\"bhat\",31)\n",
    "positional_args(67,31,\"ahmad\") # discrepancy\n",
    "\n",
    "# We can also use *args in case we have n-number of arguments\n",
    "def positional_args1(*args):\n",
    "    print(args)\n",
    "\n",
    "positional_args1(1,2,3,4,5)"
   ],
   "id": "40a3d726b456ed6b"
  },
  {
   "metadata": {},
   "cell_type": "markdown",
   "source": "### Keyword Arguments",
   "id": "c7226e8ef960ef55"
  },
  {
   "metadata": {
    "ExecuteTime": {
     "end_time": "2025-05-18T10:36:54.271393Z",
     "start_time": "2025-05-18T10:36:54.264417Z"
    }
   },
   "cell_type": "code",
   "source": [
    "def keyword_args(**kwargs):\n",
    "    print(kwargs)\n",
    "\n",
    "keyword_args(a=1,b=2,c=3,name='davood')"
   ],
   "id": "c93517e9e4a7be97",
   "outputs": [
    {
     "name": "stdout",
     "output_type": "stream",
     "text": [
      "{'a': 1, 'b': 2, 'c': 3, 'name': 'davood'}\n"
     ]
    }
   ],
   "execution_count": 11
  },
  {
   "metadata": {},
   "cell_type": "markdown",
   "source": [
    "#### Mixed - Positional and Keyword Arguments\n",
    "##### Positional Arguments can not be placed after Keyword Arguments"
   ],
   "id": "375cd59b6f782b8c"
  },
  {
   "metadata": {
    "ExecuteTime": {
     "end_time": "2025-05-18T10:39:35.840665Z",
     "start_time": "2025-05-18T10:39:35.835058Z"
    }
   },
   "cell_type": "code",
   "source": [
    "def positional_args2(*args,**kwargs):\n",
    "    print(args)\n",
    "    print(kwargs)\n",
    "\n",
    "positional_args2(1,2,3,4,5,name='davood',age=31)"
   ],
   "id": "c337cb4f2db04452",
   "outputs": [
    {
     "name": "stdout",
     "output_type": "stream",
     "text": [
      "(1, 2, 3, 4, 5)\n",
      "{'name': 'davood', 'age': 31}\n"
     ]
    }
   ],
   "execution_count": 12
  },
  {
   "metadata": {},
   "cell_type": "markdown",
   "source": [
    "### Return value from a Function\n",
    "##### A function can return single or multiple values"
   ],
   "id": "582458d0880fb37e"
  },
  {
   "metadata": {
    "ExecuteTime": {
     "end_time": "2025-05-18T10:42:53.788168Z",
     "start_time": "2025-05-18T10:42:53.780558Z"
    }
   },
   "cell_type": "code",
   "source": [
    "def multiply_divide(num1,num2):\n",
    "    return num1*num2,num1/num2\n",
    "print(multiply_divide(3,4))"
   ],
   "id": "d3d44b0f997599c0",
   "outputs": [
    {
     "name": "stdout",
     "output_type": "stream",
     "text": [
      "(12, 0.75)\n"
     ]
    }
   ],
   "execution_count": 13
  }
 ],
 "metadata": {
  "kernelspec": {
   "display_name": "Python 3",
   "language": "python",
   "name": "python3"
  },
  "language_info": {
   "codemirror_mode": {
    "name": "ipython",
    "version": 2
   },
   "file_extension": ".py",
   "mimetype": "text/x-python",
   "name": "python",
   "nbconvert_exporter": "python",
   "pygments_lexer": "ipython2",
   "version": "2.7.6"
  }
 },
 "nbformat": 4,
 "nbformat_minor": 5
}
