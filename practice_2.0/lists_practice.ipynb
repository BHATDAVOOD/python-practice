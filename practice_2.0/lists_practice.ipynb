{
 "cells": [
  {
   "metadata": {},
   "cell_type": "markdown",
   "source": "## Slicing Lists",
   "id": "12305839a6900e9d"
  },
  {
   "metadata": {},
   "cell_type": "code",
   "outputs": [
    {
     "name": "stdout",
     "output_type": "stream",
     "text": [
      "[2, 3]\n",
      "[3, 4, 5, 6]\n",
      "[1, 2, 3, 4]\n",
      "[1, 3, 5]\n"
     ]
    }
   ],
   "execution_count": 4,
   "source": [
    "numbers=[1,2,3,4,5,6]\n",
    "print(numbers[1:3])\n",
    "print(numbers[2:])\n",
    "print(numbers[:4])\n",
    "print(numbers[::2]) # From start to end with step size of 2"
   ],
   "id": "1b195fae41ed934e"
  },
  {
   "metadata": {},
   "cell_type": "markdown",
   "source": "# Iterating over Lists",
   "id": "4a4e7ce3c73cb751"
  },
  {
   "metadata": {
    "ExecuteTime": {
     "end_time": "2025-05-17T08:56:59.470402Z",
     "start_time": "2025-05-17T08:56:59.463353Z"
    }
   },
   "cell_type": "code",
   "source": [
    "for number in numbers:\n",
    "    print(number)"
   ],
   "id": "562abf8ccdbd62d3",
   "outputs": [
    {
     "name": "stdout",
     "output_type": "stream",
     "text": [
      "1\n",
      "2\n",
      "3\n",
      "4\n",
      "5\n",
      "6\n"
     ]
    }
   ],
   "execution_count": 5
  },
  {
   "metadata": {
    "ExecuteTime": {
     "end_time": "2025-05-17T08:58:26.332650Z",
     "start_time": "2025-05-17T08:58:26.326849Z"
    }
   },
   "cell_type": "code",
   "source": [
    "# Iterating along with Index\n",
    "# We have built-in function know as enumerate\n",
    "for index,number in enumerate(numbers):\n",
    "    print(index,number)"
   ],
   "id": "ac78a5a0c1f06d91",
   "outputs": [
    {
     "name": "stdout",
     "output_type": "stream",
     "text": [
      "0 1\n",
      "1 2\n",
      "2 3\n",
      "3 4\n",
      "4 5\n",
      "5 6\n"
     ]
    }
   ],
   "execution_count": 6
  },
  {
   "metadata": {},
   "cell_type": "markdown",
   "source": "## List Comprehensions",
   "id": "47cb36bf42dead28"
  },
  {
   "metadata": {},
   "cell_type": "markdown",
   "source": [
    "### [what we want as output, what operation we are performing]\n",
    "### Example : [x**2 for x in numbers]"
   ],
   "id": "ebe7615c11caa1db"
  },
  {
   "metadata": {
    "ExecuteTime": {
     "end_time": "2025-05-17T09:03:12.831741Z",
     "start_time": "2025-05-17T09:03:12.822304Z"
    }
   },
   "cell_type": "code",
   "source": "[x**2 for x in range(10)]",
   "id": "4302ac59d3f91e17",
   "outputs": [
    {
     "data": {
      "text/plain": [
       "[0, 1, 4, 9, 16, 25, 36, 49, 64, 81]"
      ]
     },
     "execution_count": 8,
     "metadata": {},
     "output_type": "execute_result"
    }
   ],
   "execution_count": 8
  }
 ],
 "metadata": {
  "kernelspec": {
   "display_name": "Python 3",
   "language": "python",
   "name": "python3"
  },
  "language_info": {
   "codemirror_mode": {
    "name": "ipython",
    "version": 2
   },
   "file_extension": ".py",
   "mimetype": "text/x-python",
   "name": "python",
   "nbconvert_exporter": "python",
   "pygments_lexer": "ipython2",
   "version": "2.7.6"
  }
 },
 "nbformat": 4,
 "nbformat_minor": 5
}
