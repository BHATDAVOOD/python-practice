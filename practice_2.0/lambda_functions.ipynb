{
 "cells": [
  {
   "metadata": {},
   "cell_type": "markdown",
   "source": [
    "### Lambda Functions\n",
    "##### Small Anonymous functions defined using lambda keyword\n",
    "##### They can have n-number of arguments but only one expression\n",
    "##### Commonly used for short operations or as arguments for higher order fucntions"
   ],
   "id": "91127f16749083cf"
  },
  {
   "metadata": {
    "ExecuteTime": {
     "end_time": "2025-05-19T12:41:16.359769Z",
     "start_time": "2025-05-19T12:41:16.350791Z"
    }
   },
   "cell_type": "code",
   "source": [
    "### Syntax\n",
    "# lambda arguments :expression\n",
    "\n",
    "def addition_normal(a,b):\n",
    "    return a+b # Here we have only 1 expression, so we can convert to anonymous function\n",
    "addition_with_normal = addition_normal(1,2)\n",
    "# Lambda function\n",
    "addition_with_lambda = lambda a,b:a+b\n",
    "\n",
    "print(f'sum using normal functions : {addition_with_normal}')\n",
    "print(f'sum using lambda functions : {addition_with_lambda(1,2)}')"
   ],
   "id": "initial_id",
   "outputs": [
    {
     "name": "stdout",
     "output_type": "stream",
     "text": [
      "sum using normal functions : 3\n",
      "sum using lambda functions : 3\n"
     ]
    }
   ],
   "execution_count": 2
  }
 ],
 "metadata": {
  "kernelspec": {
   "display_name": "Python 3",
   "language": "python",
   "name": "python3"
  },
  "language_info": {
   "codemirror_mode": {
    "name": "ipython",
    "version": 2
   },
   "file_extension": ".py",
   "mimetype": "text/x-python",
   "name": "python",
   "nbconvert_exporter": "python",
   "pygments_lexer": "ipython2",
   "version": "2.7.6"
  }
 },
 "nbformat": 4,
 "nbformat_minor": 5
}
