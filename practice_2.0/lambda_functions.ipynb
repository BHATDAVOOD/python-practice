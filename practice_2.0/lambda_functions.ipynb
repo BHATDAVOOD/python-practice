{
 "cells": [
  {
   "metadata": {},
   "cell_type": "markdown",
   "source": [
    "### Lambda Functions\n",
    "##### Small Anonymous functions defined using lambda keyword\n",
    "##### They can have n-number of arguments but only one expression\n",
    "##### Commonly used for short operations or as arguments for higher order fucntions"
   ],
   "id": "91127f16749083cf"
  },
  {
   "metadata": {
    "ExecuteTime": {
     "end_time": "2025-05-19T12:41:16.359769Z",
     "start_time": "2025-05-19T12:41:16.350791Z"
    }
   },
   "cell_type": "code",
   "source": [
    "### Syntax\n",
    "# lambda arguments :expression\n",
    "\n",
    "def addition_normal(a,b):\n",
    "    return a+b # Here we have only 1 expression, so we can convert to anonymous function\n",
    "addition_with_normal = addition_normal(1,2)\n",
    "# Lambda function\n",
    "addition_with_lambda = lambda a,b:a+b\n",
    "\n",
    "print(f'sum using normal functions : {addition_with_normal}')\n",
    "print(f'sum using lambda functions : {addition_with_lambda(1,2)}')"
   ],
   "id": "initial_id",
   "outputs": [
    {
     "name": "stdout",
     "output_type": "stream",
     "text": [
      "sum using normal functions : 3\n",
      "sum using lambda functions : 3\n"
     ]
    }
   ],
   "execution_count": 2
  },
  {
   "metadata": {
    "ExecuteTime": {
     "end_time": "2025-05-19T12:45:20.135011Z",
     "start_time": "2025-05-19T12:45:20.121685Z"
    }
   },
   "cell_type": "code",
   "source": [
    "def check_even(num):\n",
    "    if num % 2 == 0:\n",
    "        return True\n",
    "    else:\n",
    "        return False\n",
    "\n",
    "print(check_even(2))\n",
    "print(check_even(3))\n",
    "\n",
    "even_with_lambda = lambda number: number % 2 == 0\n",
    "print(even_with_lambda(2))\n",
    "print(even_with_lambda(3))"
   ],
   "id": "9103d3df83fb618f",
   "outputs": [
    {
     "name": "stdout",
     "output_type": "stream",
     "text": [
      "True\n",
      "False\n",
      "True\n",
      "False\n"
     ]
    }
   ],
   "execution_count": 3
  },
  {
   "metadata": {
    "ExecuteTime": {
     "end_time": "2025-05-19T12:46:47.462636Z",
     "start_time": "2025-05-19T12:46:47.456743Z"
    }
   },
   "cell_type": "code",
   "source": [
    "lambda_sum = lambda *args: sum(args)\n",
    "print(lambda_sum(1,2,3))"
   ],
   "id": "8e0f86a13d4b5dd3",
   "outputs": [
    {
     "name": "stdout",
     "output_type": "stream",
     "text": [
      "6\n"
     ]
    }
   ],
   "execution_count": 4
  }
 ],
 "metadata": {
  "kernelspec": {
   "display_name": "Python 3",
   "language": "python",
   "name": "python3"
  },
  "language_info": {
   "codemirror_mode": {
    "name": "ipython",
    "version": 2
   },
   "file_extension": ".py",
   "mimetype": "text/x-python",
   "name": "python",
   "nbconvert_exporter": "python",
   "pygments_lexer": "ipython2",
   "version": "2.7.6"
  }
 },
 "nbformat": 4,
 "nbformat_minor": 5
}
