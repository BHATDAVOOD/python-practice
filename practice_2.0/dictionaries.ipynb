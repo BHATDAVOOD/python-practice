{
 "cells": [
  {
   "metadata": {},
   "cell_type": "markdown",
   "source": [
    "### DICTIONARIES : STORES DATA IN KEY:VALUE PAIR\n",
    "##### They are unordered collection of items.\n",
    "##### Stored in Key-Value Pairs\n",
    "##### Keys must be unique and immutable (eg strings, tuples,numbers)"
   ],
   "id": "c9bb11ad5b26a71a"
  },
  {
   "metadata": {},
   "cell_type": "markdown",
   "source": "### Creating Dictionaries",
   "id": "e961491f26274c92"
  },
  {
   "metadata": {
    "ExecuteTime": {
     "end_time": "2025-05-17T14:05:07.035062Z",
     "start_time": "2025-05-17T14:05:07.027407Z"
    }
   },
   "cell_type": "code",
   "source": [
    "empty_dict={}\n",
    "print(type(empty_dict))\n",
    "\n",
    "empty_dict1=dict()\n",
    "print(type(empty_dict1))\n",
    "\n",
    "student={'name':'davood','age':31,'grade':6.9}\n",
    "print(student)"
   ],
   "id": "initial_id",
   "outputs": [
    {
     "name": "stdout",
     "output_type": "stream",
     "text": [
      "<class 'dict'>\n",
      "<class 'dict'>\n",
      "{'name': 'davood', 'age': 31, 'grade': 6.9}\n"
     ]
    }
   ],
   "execution_count": 2
  },
  {
   "metadata": {},
   "cell_type": "markdown",
   "source": "### Accessing Dictionary items",
   "id": "736fc16787178e6c"
  },
  {
   "metadata": {
    "ExecuteTime": {
     "end_time": "2025-05-17T14:12:14.616970Z",
     "start_time": "2025-05-17T14:12:14.612524Z"
    }
   },
   "cell_type": "code",
   "source": [
    "# Method 1\n",
    "print(student['name'])\n",
    "\n",
    "# Using get() method\n",
    "print(student.get('grade')) # Will give value if Key is present and 'None' if not available\n",
    "print(student.get('marks')) # None\n",
    "print(student.get('marks','Not Available')) # This is the way to set Default Value if Key is not present"
   ],
   "id": "4f7eb847b6bd47f4",
   "outputs": [
    {
     "name": "stdout",
     "output_type": "stream",
     "text": [
      "davood\n",
      "6.9\n",
      "None\n",
      "Not Available\n"
     ]
    }
   ],
   "execution_count": 9
  },
  {
   "metadata": {},
   "cell_type": "markdown",
   "source": [
    "### Modifying Dictionary Elements\n",
    "##### Dictionaries are mutable, so we can add, update or delete elements"
   ],
   "id": "5f871e81e3c938d0"
  },
  {
   "metadata": {
    "ExecuteTime": {
     "end_time": "2025-05-17T14:17:09.047936Z",
     "start_time": "2025-05-17T14:17:09.039452Z"
    }
   },
   "cell_type": "code",
   "source": [
    "student={'name':'davod','age':31,'grade':6.9}\n",
    "print(student)\n",
    "student['age']=30 # Updated the value\n",
    "print(student)\n",
    "student['marks']=100 # Add new item\n",
    "print(student)\n",
    "del student['grade'] # This will delete the key-value pair of key -> grade\n",
    "print(student)"
   ],
   "id": "b2f2dc34ef1f46da",
   "outputs": [
    {
     "name": "stdout",
     "output_type": "stream",
     "text": [
      "{'name': 'davod', 'age': 31, 'grade': 6.9}\n",
      "{'name': 'davod', 'age': 30, 'grade': 6.9}\n",
      "{'name': 'davod', 'age': 30, 'grade': 6.9, 'marks': 100}\n",
      "{'name': 'davod', 'age': 30, 'marks': 100}\n"
     ]
    }
   ],
   "execution_count": 15
  },
  {
   "metadata": {},
   "cell_type": "markdown",
   "source": [
    "### Dictionary Methods\n",
    "##### keys() -> get all Keys\n",
    "##### values() -> get all values\n",
    "##### items() -> get all key-value pairs (Similar to entryset())"
   ],
   "id": "f0b2ecc7c4415cae"
  },
  {
   "metadata": {
    "ExecuteTime": {
     "end_time": "2025-05-17T14:20:25.860018Z",
     "start_time": "2025-05-17T14:20:25.852761Z"
    }
   },
   "cell_type": "code",
   "source": [
    "keys=student.keys()\n",
    "values=student.values()\n",
    "print(keys)\n",
    "print(values)\n",
    "items=student.items()\n",
    "print(items)\n"
   ],
   "id": "8c5b42d2b1bcd5f9",
   "outputs": [
    {
     "name": "stdout",
     "output_type": "stream",
     "text": [
      "dict_keys(['name', 'age', 'marks'])\n",
      "dict_values(['davod', 30, 100])\n",
      "dict_items([('name', 'davod'), ('age', 30), ('marks', 100)])\n"
     ]
    }
   ],
   "execution_count": 16
  },
  {
   "metadata": {},
   "cell_type": "markdown",
   "source": [
    "### Copying Dictionary\n",
    "##### Never copy the dictionary as : dict_copy=dict\n",
    "##### This way any change in dict will also reflect in dict_copy\n",
    "##### Always use dict.copy() to create a copy of the same"
   ],
   "id": "6b8aea1d8f7b4877"
  },
  {
   "metadata": {
    "ExecuteTime": {
     "end_time": "2025-05-17T14:28:10.228119Z",
     "start_time": "2025-05-17T14:28:10.220859Z"
    }
   },
   "cell_type": "code",
   "source": [
    "student={'name':'davod','age':31,'grade':6.9}\n",
    "student_copy=student\n",
    "print(student_copy)\n",
    "print(student)\n",
    "\n",
    "student['name']='ahmad'\n",
    "print(student)\n",
    "print(student_copy)  # Same value for name as that of student\n",
    "\n",
    "print('======================================')\n",
    "student_copy1=student.copy()\n",
    "student['age']=30\n",
    "print(student_copy1)\n",
    "print(student)"
   ],
   "id": "595bcf6bf237ce48",
   "outputs": [
    {
     "name": "stdout",
     "output_type": "stream",
     "text": [
      "{'name': 'davod', 'age': 31, 'grade': 6.9}\n",
      "{'name': 'davod', 'age': 31, 'grade': 6.9}\n",
      "{'name': 'ahmad', 'age': 31, 'grade': 6.9}\n",
      "{'name': 'ahmad', 'age': 31, 'grade': 6.9}\n",
      "======================================\n",
      "{'name': 'ahmad', 'age': 31, 'grade': 6.9}\n",
      "{'name': 'ahmad', 'age': 30, 'grade': 6.9}\n"
     ]
    }
   ],
   "execution_count": 20
  },
  {
   "metadata": {},
   "cell_type": "markdown",
   "source": "### Iterating over Dictionaries",
   "id": "125fc04d3f79c7f6"
  },
  {
   "metadata": {
    "ExecuteTime": {
     "end_time": "2025-05-17T14:33:53.886599Z",
     "start_time": "2025-05-17T14:33:53.875741Z"
    }
   },
   "cell_type": "code",
   "source": [
    "# Iterating over Keys\n",
    "for key in student.keys():\n",
    "    print('key : {}, value : {}'.format(key,student.get(key)))\n",
    "\n",
    "# Iterate over values\n",
    "for value in student.values():\n",
    "    print('value : {}'.format(value))\n",
    "\n",
    "# Iterating over Items (Key-value pairs)\n",
    "for item in student.items():\n",
    "    print('item : {}'.format(item))\n",
    "\n",
    "for key, value in student.items():\n",
    "    print(f'{key} : {value}')"
   ],
   "id": "7a7a9c7b2a1ac7df",
   "outputs": [
    {
     "name": "stdout",
     "output_type": "stream",
     "text": [
      "key : name, value : ahmad\n",
      "key : age, value : 30\n",
      "key : grade, value : 6.9\n",
      "value : ahmad\n",
      "value : 30\n",
      "value : 6.9\n",
      "item : ('name', 'ahmad')\n",
      "item : ('age', 30)\n",
      "item : ('grade', 6.9)\n",
      "name : ahmad\n",
      "age : 30\n",
      "grade : 6.9\n"
     ]
    }
   ],
   "execution_count": 27
  },
  {
   "metadata": {},
   "cell_type": "markdown",
   "source": "### Nested Dictionaries",
   "id": "d195124e987695ec"
  },
  {
   "metadata": {
    "ExecuteTime": {
     "end_time": "2025-05-17T14:42:03.858792Z",
     "start_time": "2025-05-17T14:42:03.849529Z"
    }
   },
   "cell_type": "code",
   "source": [
    "    students={\n",
    "    \"student1\":{\"name\":\"davood\",\"age\":31,\"grade\":6.9},\n",
    "    \"student2\":{\"name\":\"abrar\",\"age\":23,\"grade\":8.4},\n",
    "}\n",
    "\n",
    "# Iterating Nested Dictionaries\n",
    "for student_id,student_info in students.items():\n",
    "        for key,value in student_info.items():\n",
    "            print(f'{key} : {value}')"
   ],
   "id": "48c51fc62cb376a1",
   "outputs": [
    {
     "name": "stdout",
     "output_type": "stream",
     "text": [
      "name : davood\n",
      "age : 31\n",
      "grade : 6.9\n",
      "name : abrar\n",
      "age : 23\n",
      "grade : 8.4\n"
     ]
    }
   ],
   "execution_count": 33
  },
  {
   "metadata": {},
   "cell_type": "markdown",
   "source": "### Dictionary Comprehensions",
   "id": "7b4c33d4ed428102"
  },
  {
   "metadata": {
    "ExecuteTime": {
     "end_time": "2025-05-18T04:53:44.143959Z",
     "start_time": "2025-05-18T04:53:44.099695Z"
    }
   },
   "cell_type": "code",
   "source": "{number: number**2 for number in range(5)}",
   "id": "1ad94e03d23b6547",
   "outputs": [
    {
     "data": {
      "text/plain": [
       "{0: 0, 1: 1, 2: 4, 3: 9, 4: 16}"
      ]
     },
     "execution_count": 34,
     "metadata": {},
     "output_type": "execute_result"
    }
   ],
   "execution_count": 34
  },
  {
   "metadata": {},
   "cell_type": "markdown",
   "source": "### Conditional Dictionary comprehension",
   "id": "6819daf70d8b8cce"
  },
  {
   "metadata": {
    "ExecuteTime": {
     "end_time": "2025-05-18T04:55:00.244768Z",
     "start_time": "2025-05-18T04:55:00.233950Z"
    }
   },
   "cell_type": "code",
   "source": "{i:i**2 for i in range(10) if i%2==0}",
   "id": "515ee78e60b2fa9",
   "outputs": [
    {
     "data": {
      "text/plain": [
       "{0: 0, 2: 4, 4: 16, 6: 36, 8: 64}"
      ]
     },
     "execution_count": 35,
     "metadata": {},
     "output_type": "execute_result"
    }
   ],
   "execution_count": 35
  },
  {
   "metadata": {},
   "cell_type": "markdown",
   "source": "### Practical Examples",
   "id": "20bcd91718d9e8a0"
  },
  {
   "metadata": {
    "ExecuteTime": {
     "end_time": "2025-05-18T04:59:44.136334Z",
     "start_time": "2025-05-18T04:59:44.125984Z"
    }
   },
   "cell_type": "code",
   "source": [
    "list=[1,2,2,2,3,3,3,3,4,4,5,5,5]\n",
    "## Without Comprehension\n",
    "freq={}\n",
    "for item in list:\n",
    "    if item in freq:\n",
    "        freq[item]+=1\n",
    "    else:\n",
    "        freq[item]=1\n",
    "print(freq)\n",
    "\n",
    "## With Comprehension\n",
    "frequency={number : list.count(number) for number in list}\n",
    "print(frequency)"
   ],
   "id": "ead09164f2b72e0d",
   "outputs": [
    {
     "name": "stdout",
     "output_type": "stream",
     "text": [
      "{1: 1, 2: 3, 3: 4, 4: 2, 5: 3}\n",
      "{1: 1, 2: 3, 3: 4, 4: 2, 5: 3}\n"
     ]
    }
   ],
   "execution_count": 38
  }
 ],
 "metadata": {
  "kernelspec": {
   "display_name": "Python 3",
   "language": "python",
   "name": "python3"
  },
  "language_info": {
   "codemirror_mode": {
    "name": "ipython",
    "version": 2
   },
   "file_extension": ".py",
   "mimetype": "text/x-python",
   "name": "python",
   "nbconvert_exporter": "python",
   "pygments_lexer": "ipython2",
   "version": "2.7.6"
  }
 },
 "nbformat": 4,
 "nbformat_minor": 5
}
