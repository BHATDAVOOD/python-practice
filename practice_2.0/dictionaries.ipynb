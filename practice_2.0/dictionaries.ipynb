{
 "cells": [
  {
   "metadata": {},
   "cell_type": "markdown",
   "source": [
    "### DICTIONARIES : STORES DATA IN KEY:VALUE PAIR\n",
    "##### They are unordered collection of items.\n",
    "##### Stored in Key-Value Pairs\n",
    "##### Keys must be unique and immutable (eg strings, tuples,numbers)"
   ],
   "id": "c9bb11ad5b26a71a"
  },
  {
   "metadata": {},
   "cell_type": "markdown",
   "source": "### Creating Dictionaries",
   "id": "e961491f26274c92"
  },
  {
   "metadata": {
    "ExecuteTime": {
     "end_time": "2025-05-17T14:05:07.035062Z",
     "start_time": "2025-05-17T14:05:07.027407Z"
    }
   },
   "cell_type": "code",
   "source": [
    "empty_dict={}\n",
    "print(type(empty_dict))\n",
    "\n",
    "empty_dict1=dict()\n",
    "print(type(empty_dict1))\n",
    "\n",
    "student={'name':'davood','age':31,'grade':6.9}\n",
    "print(student)"
   ],
   "id": "initial_id",
   "outputs": [
    {
     "name": "stdout",
     "output_type": "stream",
     "text": [
      "<class 'dict'>\n",
      "<class 'dict'>\n",
      "{'name': 'davood', 'age': 31, 'grade': 6.9}\n"
     ]
    }
   ],
   "execution_count": 2
  },
  {
   "metadata": {},
   "cell_type": "markdown",
   "source": "### Accessing Dictionary items",
   "id": "736fc16787178e6c"
  },
  {
   "metadata": {
    "ExecuteTime": {
     "end_time": "2025-05-17T14:12:14.616970Z",
     "start_time": "2025-05-17T14:12:14.612524Z"
    }
   },
   "cell_type": "code",
   "source": [
    "# Method 1\n",
    "print(student['name'])\n",
    "\n",
    "# Using get() method\n",
    "print(student.get('grade')) # Will give value if Key is present and 'None' if not available\n",
    "print(student.get('marks')) # None\n",
    "print(student.get('marks','Not Available')) # This is the way to set Default Value if Key is not present"
   ],
   "id": "4f7eb847b6bd47f4",
   "outputs": [
    {
     "name": "stdout",
     "output_type": "stream",
     "text": [
      "davood\n",
      "6.9\n",
      "None\n",
      "Not Available\n"
     ]
    }
   ],
   "execution_count": 9
  },
  {
   "metadata": {},
   "cell_type": "markdown",
   "source": [
    "### Modifying Dictionary Elements\n",
    "##### Dictionaries are mutable, so we can add, update or delete elements"
   ],
   "id": "5f871e81e3c938d0"
  },
  {
   "metadata": {
    "ExecuteTime": {
     "end_time": "2025-05-17T14:17:09.047936Z",
     "start_time": "2025-05-17T14:17:09.039452Z"
    }
   },
   "cell_type": "code",
   "source": [
    "student={'name':'davod','age':31,'grade':6.9}\n",
    "print(student)\n",
    "student['age']=30 # Updated the value\n",
    "print(student)\n",
    "student['marks']=100 # Add new item\n",
    "print(student)\n",
    "del student['grade'] # This will delete the key-value pair of key -> grade\n",
    "print(student)"
   ],
   "id": "b2f2dc34ef1f46da",
   "outputs": [
    {
     "name": "stdout",
     "output_type": "stream",
     "text": [
      "{'name': 'davod', 'age': 31, 'grade': 6.9}\n",
      "{'name': 'davod', 'age': 30, 'grade': 6.9}\n",
      "{'name': 'davod', 'age': 30, 'grade': 6.9, 'marks': 100}\n",
      "{'name': 'davod', 'age': 30, 'marks': 100}\n"
     ]
    }
   ],
   "execution_count": 15
  }
 ],
 "metadata": {
  "kernelspec": {
   "display_name": "Python 3",
   "language": "python",
   "name": "python3"
  },
  "language_info": {
   "codemirror_mode": {
    "name": "ipython",
    "version": 2
   },
   "file_extension": ".py",
   "mimetype": "text/x-python",
   "name": "python",
   "nbconvert_exporter": "python",
   "pygments_lexer": "ipython2",
   "version": "2.7.6"
  }
 },
 "nbformat": 4,
 "nbformat_minor": 5
}
