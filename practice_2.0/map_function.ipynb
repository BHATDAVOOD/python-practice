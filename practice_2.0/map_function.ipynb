{
 "cells": [
  {
   "metadata": {},
   "cell_type": "markdown",
   "source": [
    "### MAP Function\n",
    "##### Applies given function to all the items in the given list(or any other iterable)\n",
    "##### Useful for performing transformation on the data"
   ],
   "id": "50e783a0c38512a4"
  },
  {
   "metadata": {
    "ExecuteTime": {
     "end_time": "2025-05-19T15:12:07.594765Z",
     "start_time": "2025-05-19T15:12:07.585944Z"
    }
   },
   "cell_type": "code",
   "source": [
    "# Syntax\n",
    "# map() -> It takes arguments as function and iterable\n",
    "\n",
    "def square(numbers):\n",
    "    result = []\n",
    "    for number in numbers:\n",
    "        result.append(number**2)\n",
    "    return result\n",
    "print(square([1, 2, 3]))\n",
    "\n",
    "def square2(number):\n",
    "    return number ** 2\n",
    "\n",
    "# Using map function\n",
    "list(map(square2, [1, 2, 3]))\n",
    "\n",
    "# Using Lambda with Map\n",
    "numbers = [1, 2, 3,4,5,6]\n",
    "list(map(lambda x: x**2, numbers)) # Just a single line"
   ],
   "id": "initial_id",
   "outputs": [
    {
     "name": "stdout",
     "output_type": "stream",
     "text": [
      "[1, 4, 9]\n"
     ]
    },
    {
     "data": {
      "text/plain": [
       "[1, 4, 9, 16, 25, 36]"
      ]
     },
     "execution_count": 3,
     "metadata": {},
     "output_type": "execute_result"
    }
   ],
   "execution_count": 3
  },
  {
   "metadata": {},
   "cell_type": "markdown",
   "source": "### Map Multiple Iterables",
   "id": "d93527e584971a18"
  },
  {
   "metadata": {
    "ExecuteTime": {
     "end_time": "2025-05-19T15:15:11.964121Z",
     "start_time": "2025-05-19T15:15:11.958568Z"
    }
   },
   "cell_type": "code",
   "source": [
    "numbers1 = [1, 2, 3,4,5,6]\n",
    "numbers2 = [7, 8, 9,10,11,12]\n",
    "added_numbers=list(map(lambda x,y: x+y, numbers1,numbers2))\n",
    "print(added_numbers)"
   ],
   "id": "ba76cca7f0f7aeee",
   "outputs": [
    {
     "name": "stdout",
     "output_type": "stream",
     "text": [
      "[8, 10, 12, 14, 16, 18]\n"
     ]
    }
   ],
   "execution_count": 5
  }
 ],
 "metadata": {
  "kernelspec": {
   "display_name": "Python 3",
   "language": "python",
   "name": "python3"
  },
  "language_info": {
   "codemirror_mode": {
    "name": "ipython",
    "version": 2
   },
   "file_extension": ".py",
   "mimetype": "text/x-python",
   "name": "python",
   "nbconvert_exporter": "python",
   "pygments_lexer": "ipython2",
   "version": "2.7.6"
  }
 },
 "nbformat": 4,
 "nbformat_minor": 5
}
