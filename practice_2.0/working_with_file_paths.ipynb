{
 "cells": [
  {
   "cell_type": "markdown",
   "metadata": {},
   "source": [
    "### Working with file paths"
   ]
  },
  {
   "cell_type": "markdown",
   "metadata": {},
   "source": [
    "##### Create a new directory"
   ]
  },
  {
   "cell_type": "code",
   "execution_count": 1,
   "metadata": {},
   "outputs": [
    {
     "name": "stdout",
     "output_type": "stream",
     "text": [
      "Directory \"davoodbhat \" is created\n"
     ]
    }
   ],
   "source": [
    "import os\n",
    "new_directory='davoodbhat'\n",
    "os.mkdir(new_directory)\n",
    "print(f'Directory \"{new_directory} \" is created')"
   ]
  },
  {
   "cell_type": "markdown",
   "metadata": {},
   "source": [
    "##### Listing all the files and directories"
   ]
  },
  {
   "cell_type": "code",
   "execution_count": 2,
   "metadata": {},
   "outputs": [
    {
     "name": "stdout",
     "output_type": "stream",
     "text": [
      "['assignments', 'control_flow.py', 'custom_packages.ipynb', 'data_types.py', 'davoodbhat', 'destination.txt', 'dictionaries.ipynb', 'example.bin', 'example.csv', 'example.txt', 'file_operations.ipynb', 'filter_function.ipynb', 'functions.ipynb', 'hello_world.py', 'lambda_functions.ipynb', 'lists_practice.ipynb', 'loops.py', 'map_function.ipynb', 'myfile.txt', 'operators.py', 'read_input.py', 'sets.ipynb', 'standard_libraries.ipynb', 'study', 'tuples.ipynb', 'variables.py', 'working_with_file_paths.ipynb']\n"
     ]
    }
   ],
   "source": [
    "items=os.listdir('.') # . mentions we are looking into current working dirctory\n",
    "print(items)"
   ]
  },
  {
   "cell_type": "markdown",
   "metadata": {},
   "source": [
    "##### Joining Paths"
   ]
  },
  {
   "cell_type": "code",
   "execution_count": 4,
   "metadata": {},
   "outputs": [
    {
     "name": "stdout",
     "output_type": "stream",
     "text": [
      "davoodbhat\\example.txt\n",
      "c:\\Users\\257642\\Desktop\\python\\practice_2.0\\davoodbhat\\example.txt\n"
     ]
    }
   ],
   "source": [
    "dir_name='davoodbhat'\n",
    "file_name='example.txt'\n",
    "\n",
    "full_path=os.path.join(dir_name,file_name)\n",
    "print(full_path)\n",
    "\n",
    "\n",
    "# Get Entire path\n",
    "entire_path=os.path.join(os.getcwd(),dir_name,file_name)\n",
    "print(entire_path)\n"
   ]
  },
  {
   "cell_type": "markdown",
   "metadata": {},
   "source": [
    "##### Checking path is a file or directory"
   ]
  },
  {
   "cell_type": "code",
   "execution_count": 12,
   "metadata": {},
   "outputs": [
    {
     "name": "stdout",
     "output_type": "stream",
     "text": [
      "Path example is neither a file or a directory\n"
     ]
    }
   ],
   "source": [
    "path='example'\n",
    "if os.path.isfile(path):\n",
    "    print(f'Path {path} is a file')\n",
    "elif os.path.isdir(path):\n",
    "    print(f'Path {path} is a directory')\n",
    "else:\n",
    "    print(f'Path {path} is neither a file or a directory')"
   ]
  }
 ],
 "metadata": {
  "kernelspec": {
   "display_name": "Python 3",
   "language": "python",
   "name": "python3"
  },
  "language_info": {
   "codemirror_mode": {
    "name": "ipython",
    "version": 3
   },
   "file_extension": ".py",
   "mimetype": "text/x-python",
   "name": "python",
   "nbconvert_exporter": "python",
   "pygments_lexer": "ipython3",
   "version": "3.12.10"
  }
 },
 "nbformat": 4,
 "nbformat_minor": 2
}
