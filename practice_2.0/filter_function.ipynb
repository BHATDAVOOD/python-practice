{
 "cells": [
  {
   "metadata": {},
   "cell_type": "markdown",
   "source": [
    "### Filter Function\n",
    "##### It is used to filter data from a list (or other iterable) on the basis of some condition"
   ],
   "id": "98a9346066c70e8e"
  },
  {
   "metadata": {
    "ExecuteTime": {
     "end_time": "2025-05-19T15:28:39.562824Z",
     "start_time": "2025-05-19T15:28:39.556021Z"
    }
   },
   "cell_type": "code",
   "source": [
    "def even(number):\n",
    "    if number % 2 == 0:\n",
    "        return True\n",
    "    else:\n",
    "        return False\n",
    "\n",
    "#even(24)\n",
    "\n",
    "list_numbers=[1,2,3,4,5,6,7,8,9,10,11,12,13]\n",
    "even_numbers = list(filter(even,list_numbers))\n",
    "print(even_numbers)\n",
    "\n",
    "# Using lambda\n",
    "filtered= list(filter(lambda number: number % 2 == 0, list_numbers))\n",
    "print(filtered)\n"
   ],
   "id": "initial_id",
   "outputs": [
    {
     "name": "stdout",
     "output_type": "stream",
     "text": [
      "[2, 4, 6, 8, 10, 12]\n",
      "[2, 4, 6, 8, 10, 12]\n"
     ]
    }
   ],
   "execution_count": 3
  },
  {
   "metadata": {},
   "cell_type": "markdown",
   "source": "#### With multiple conditions",
   "id": "6ddb573da5b677f9"
  },
  {
   "metadata": {
    "ExecuteTime": {
     "end_time": "2025-05-19T15:30:32.962346Z",
     "start_time": "2025-05-19T15:30:32.952626Z"
    }
   },
   "cell_type": "code",
   "source": [
    "even_filtered= list(filter(lambda number : number%2==0 and number > 5, list_numbers))\n",
    "print(even_filtered)"
   ],
   "id": "78ed74acdcc0bcb9",
   "outputs": [
    {
     "name": "stdout",
     "output_type": "stream",
     "text": [
      "[6, 8, 10, 12]\n"
     ]
    }
   ],
   "execution_count": 4
  }
 ],
 "metadata": {
  "kernelspec": {
   "display_name": "Python 3",
   "language": "python",
   "name": "python3"
  },
  "language_info": {
   "codemirror_mode": {
    "name": "ipython",
    "version": 2
   },
   "file_extension": ".py",
   "mimetype": "text/x-python",
   "name": "python",
   "nbconvert_exporter": "python",
   "pygments_lexer": "ipython2",
   "version": "2.7.6"
  }
 },
 "nbformat": 4,
 "nbformat_minor": 5
}
