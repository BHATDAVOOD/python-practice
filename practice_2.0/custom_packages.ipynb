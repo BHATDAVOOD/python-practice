{
 "cells": [
  {
   "metadata": {},
   "cell_type": "markdown",
   "source": [
    "### Create and Import Custom Packages/Modules\n",
    "##### To make a package/module, we need to have __init__.py file in the folder as only then it will be declared as package/module. We can have then n number of files in that folder"
   ],
   "id": "1708a6a97a23fc79"
  },
  {
   "metadata": {},
   "cell_type": "markdown",
   "source": "### We will create a Package as study under which will create some .py files\n",
   "id": "31d3b0e711b39e76"
  },
  {
   "metadata": {
    "ExecuteTime": {
     "end_time": "2025-05-22T15:20:57.857064Z",
     "start_time": "2025-05-22T15:20:57.850901Z"
    }
   },
   "cell_type": "code",
   "source": [
    "## Importing from our study package\n",
    "from study.maths import *\n",
    "print(add(4,7))\n",
    "print(sub(2,3))\n",
    "print(mul(2,3))\n",
    "print(div(2,3))"
   ],
   "id": "initial_id",
   "outputs": [
    {
     "name": "stdout",
     "output_type": "stream",
     "text": [
      "11\n",
      "-1\n",
      "6\n",
      "0.6666666666666666\n"
     ]
    }
   ],
   "execution_count": 1
  },
  {
   "metadata": {
    "ExecuteTime": {
     "end_time": "2025-05-22T15:24:26.753671Z",
     "start_time": "2025-05-22T15:24:26.740988Z"
    }
   },
   "cell_type": "code",
   "source": [
    "from study.science import *\n",
    "print(force(4,3))\n",
    "print(speed(55,4))\n"
   ],
   "id": "718ace5cf7ba8aac",
   "outputs": [
    {
     "name": "stdout",
     "output_type": "stream",
     "text": [
      "12\n",
      "13.75\n"
     ]
    }
   ],
   "execution_count": 2
  }
 ],
 "metadata": {
  "kernelspec": {
   "display_name": "Python 3",
   "language": "python",
   "name": "python3"
  },
  "language_info": {
   "codemirror_mode": {
    "name": "ipython",
    "version": 2
   },
   "file_extension": ".py",
   "mimetype": "text/x-python",
   "name": "python",
   "nbconvert_exporter": "python",
   "pygments_lexer": "ipython2",
   "version": "2.7.6"
  }
 },
 "nbformat": 4,
 "nbformat_minor": 5
}
