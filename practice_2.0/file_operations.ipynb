{
 "cells": [
  {
   "cell_type": "markdown",
   "id": "a53567dc56f4fd64",
   "metadata": {},
   "source": [
    "### FILE OPERATIONS - READ AND WRITE FILES"
   ]
  },
  {
   "cell_type": "markdown",
   "id": "405794e85f46ada6",
   "metadata": {},
   "source": [
    "# Working with Text Files"
   ]
  },
  {
   "cell_type": "markdown",
   "id": "b49e54a44f8f2d6b",
   "metadata": {},
   "source": [
    "##### Read whole file"
   ]
  },
  {
   "cell_type": "code",
   "execution_count": 2,
   "id": "initial_id",
   "metadata": {},
   "outputs": [
    {
     "name": "stdout",
     "output_type": "stream",
     "text": [
      "Hi, My name is Davood Bhat\n",
      "I am from Kashmir\n"
     ]
    }
   ],
   "source": [
    "with open(\"myfile.txt\", \"r\") as file:\n",
    "    file_content = file.read()\n",
    "    print(file_content)"
   ]
  },
  {
   "cell_type": "markdown",
   "id": "726689f1fd129edf",
   "metadata": {},
   "source": [
    "#### Read file line by line"
   ]
  },
  {
   "cell_type": "code",
   "execution_count": 4,
   "id": "3203cb0fb62c0d8c",
   "metadata": {},
   "outputs": [
    {
     "name": "stdout",
     "output_type": "stream",
     "text": [
      "Hi, My name is Davood Bhat\n",
      "I am from Kashmir\n"
     ]
    }
   ],
   "source": [
    "with open(\"myfile.txt\", \"r\") as file:\n",
    "    for line in file:\n",
    "        print(line.strip()) # strip() removes the new line character"
   ]
  },
  {
   "cell_type": "markdown",
   "id": "9e3b19764dc0af69",
   "metadata": {},
   "source": [
    "#### Writing in a file"
   ]
  },
  {
   "cell_type": "code",
   "execution_count": 9,
   "id": "91aeefc1a458a391",
   "metadata": {},
   "outputs": [],
   "source": [
    "with open(\"myfile.txt\", \"w\") as file:\n",
    "    file.write(\"Writing fisrst line from file \\n\")\n",
    "    file.write(\"Writing second line from file \\n\")\n",
    "\n",
    "## As we are opening this file for a write operation, this will override all the existing content with this new content"
   ]
  },
  {
   "cell_type": "markdown",
   "id": "1af9ea5c69d7e2dd",
   "metadata": {},
   "source": [
    "#### Write a file without overriding"
   ]
  },
  {
   "cell_type": "code",
   "execution_count": 10,
   "id": "7cbb72fc7cf72074",
   "metadata": {},
   "outputs": [],
   "source": [
    "with open(\"myfile.txt\", \"a\") as file:\n",
    "    file.write(\"Writing third line from file with append operation \\n\")"
   ]
  },
  {
   "cell_type": "markdown",
   "id": "87ad53c8463f238e",
   "metadata": {},
   "source": [
    "#### Writing list of lines to a file"
   ]
  },
  {
   "cell_type": "code",
   "execution_count": 11,
   "id": "f28d66a39adc2ef5",
   "metadata": {},
   "outputs": [],
   "source": [
    "lines=['first line \\n', 'second line \\n', 'third line \\n']\n",
    "with open(\"myfile.txt\", \"a\") as file:\n",
    "    file.writelines(lines)  # This will write all the lines"
   ]
  },
  {
   "cell_type": "markdown",
   "id": "8e413dc0209c6fb5",
   "metadata": {},
   "source": [
    "# Working with Binary Files"
   ]
  },
  {
   "cell_type": "markdown",
   "id": "41c517f6407aa9d7",
   "metadata": {},
   "source": [
    "#### Write in Binary Files\n"
   ]
  },
  {
   "cell_type": "code",
   "execution_count": 12,
   "id": "238509c44dba3956",
   "metadata": {
    "ExecuteTime": {
     "end_time": "2025-05-23T06:13:12.802762Z",
     "start_time": "2025-05-23T06:13:12.796308Z"
    }
   },
   "outputs": [],
   "source": [
    "data=b'\\x00\\x01\\x02\\x02\\x04'\n",
    "with open('example.bin', 'wb') as file:\n",
    "    file.write(data)"
   ]
  },
  {
   "cell_type": "markdown",
   "id": "470e4c0e049d741a",
   "metadata": {},
   "source": [
    "#### Read from a Binary file"
   ]
  },
  {
   "cell_type": "code",
   "execution_count": 13,
   "id": "c0887545932aa1ca",
   "metadata": {
    "ExecuteTime": {
     "end_time": "2025-05-23T06:14:14.212049Z",
     "start_time": "2025-05-23T06:14:14.203913Z"
    }
   },
   "outputs": [
    {
     "name": "stdout",
     "output_type": "stream",
     "text": [
      "b'\\x00\\x01\\x02\\x02\\x04'\n"
     ]
    }
   ],
   "source": [
    "with open('example.bin', 'rb') as file:\n",
    "    data = file.read()\n",
    "    print(data)"
   ]
  },
  {
   "cell_type": "markdown",
   "id": "368d0e70fb2ac582",
   "metadata": {},
   "source": [
    "### Read content from a source file and write to a destination file"
   ]
  },
  {
   "cell_type": "code",
   "execution_count": 14,
   "id": "77bb317dbe2dc1e2",
   "metadata": {
    "ExecuteTime": {
     "end_time": "2025-05-23T06:17:44.820953Z",
     "start_time": "2025-05-23T06:17:44.811506Z"
    }
   },
   "outputs": [
    {
     "name": "stdout",
     "output_type": "stream",
     "text": [
      "Writing fisrst line from file \n",
      "Writing second line from file \n",
      "Writing third line from file with append operation \n",
      "first line \n",
      "second line \n",
      "third line \n",
      "\n"
     ]
    }
   ],
   "source": [
    "with open('myfile.txt', 'r') as file:\n",
    "    file_content = file.read()\n",
    "\n",
    "with open('destination.txt', 'w') as file:\n",
    "    file.write(file_content)\n",
    "\n",
    "with open('destination.txt', 'r') as file:\n",
    "    content = file.read()\n",
    "    print(content)"
   ]
  },
  {
   "cell_type": "markdown",
   "id": "2e1a7c44",
   "metadata": {},
   "source": [
    "### W+ mode for file operations\n",
    "Open file for both reading and writing. If the file does not exist, it will be created and if it exists, the content will truncated (i.e it will be overriden)"
   ]
  },
  {
   "cell_type": "code",
   "execution_count": 1,
   "id": "4b7a8124",
   "metadata": {},
   "outputs": [
    {
     "name": "stdout",
     "output_type": "stream",
     "text": [
      "My name is Davood\n"
     ]
    }
   ],
   "source": [
    "with open('example.txt','r') as file:\n",
    "    content=file.read()\n",
    "    print(content) \n",
    "    "
   ]
  },
  {
   "cell_type": "code",
   "execution_count": null,
   "id": "ad8ace65",
   "metadata": {},
   "outputs": [],
   "source": [
    "with open('example.txt','w+') as file:\n",
    "    file.write('Welcome to the course \\n')\n",
    "    file.write('This is new course \\n')\n",
    "    \n",
    "    # Bring cursor to top to read the file\n",
    "    file.seek(0)\n",
    "    \n",
    "    content = file.read()\n",
    "    print(content)"
   ]
  }
 ],
 "metadata": {
  "kernelspec": {
   "display_name": "Python 3",
   "language": "python",
   "name": "python3"
  },
  "language_info": {
   "codemirror_mode": {
    "name": "ipython",
    "version": 3
   },
   "file_extension": ".py",
   "mimetype": "text/x-python",
   "name": "python",
   "nbconvert_exporter": "python",
   "pygments_lexer": "ipython3",
   "version": "3.12.10"
  }
 },
 "nbformat": 4,
 "nbformat_minor": 5
}
