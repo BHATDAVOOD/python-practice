{
 "cells": [
  {
   "metadata": {},
   "cell_type": "markdown",
   "source": "### FILE OPERATIONS - READ AND WRITE FILES",
   "id": "a53567dc56f4fd64"
  },
  {
   "metadata": {},
   "cell_type": "markdown",
   "source": "##### Read whole file",
   "id": "b49e54a44f8f2d6b"
  },
  {
   "metadata": {
    "ExecuteTime": {
     "end_time": "2025-05-23T05:30:45.690895Z",
     "start_time": "2025-05-23T05:30:45.684439Z"
    }
   },
   "cell_type": "code",
   "source": [
    "with open(\"myfile.txt\", \"r\") as file:\n",
    "    file_content = file.read()\n",
    "    print(file_content)"
   ],
   "id": "initial_id",
   "outputs": [
    {
     "name": "stdout",
     "output_type": "stream",
     "text": [
      "Hi, My name is Davood Bhat\n",
      "I am from Kashmir\n"
     ]
    }
   ],
   "execution_count": 2
  },
  {
   "metadata": {},
   "cell_type": "markdown",
   "source": "#### Read file line by line",
   "id": "726689f1fd129edf"
  },
  {
   "metadata": {
    "ExecuteTime": {
     "end_time": "2025-05-23T05:33:04.978471Z",
     "start_time": "2025-05-23T05:33:04.969371Z"
    }
   },
   "cell_type": "code",
   "source": [
    "with open(\"myfile.txt\", \"r\") as file:\n",
    "    for line in file:\n",
    "        print(line)"
   ],
   "id": "3203cb0fb62c0d8c",
   "outputs": [
    {
     "name": "stdout",
     "output_type": "stream",
     "text": [
      "Hi, My name is Davood Bhat\n",
      "\n",
      "I am from Kashmir\n"
     ]
    }
   ],
   "execution_count": 3
  }
 ],
 "metadata": {
  "kernelspec": {
   "display_name": "Python 3",
   "language": "python",
   "name": "python3"
  },
  "language_info": {
   "codemirror_mode": {
    "name": "ipython",
    "version": 2
   },
   "file_extension": ".py",
   "mimetype": "text/x-python",
   "name": "python",
   "nbconvert_exporter": "python",
   "pygments_lexer": "ipython2",
   "version": "2.7.6"
  }
 },
 "nbformat": 4,
 "nbformat_minor": 5
}
