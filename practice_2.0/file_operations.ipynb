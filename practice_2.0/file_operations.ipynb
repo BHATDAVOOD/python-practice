{
 "cells": [
  {
   "metadata": {},
   "cell_type": "markdown",
   "source": "### FILE OPERATIONS - READ AND WRITE FILES",
   "id": "a53567dc56f4fd64"
  },
  {
   "metadata": {},
   "cell_type": "markdown",
   "source": "# Working with Text Files",
   "id": "405794e85f46ada6"
  },
  {
   "metadata": {},
   "cell_type": "markdown",
   "source": "##### Read whole file",
   "id": "b49e54a44f8f2d6b"
  },
  {
   "metadata": {},
   "cell_type": "code",
   "outputs": [
    {
     "name": "stdout",
     "output_type": "stream",
     "text": [
      "Hi, My name is Davood Bhat\n",
      "I am from Kashmir\n"
     ]
    }
   ],
   "execution_count": 2,
   "source": [
    "with open(\"myfile.txt\", \"r\") as file:\n",
    "    file_content = file.read()\n",
    "    print(file_content)"
   ],
   "id": "initial_id"
  },
  {
   "metadata": {},
   "cell_type": "markdown",
   "source": "#### Read file line by line",
   "id": "726689f1fd129edf"
  },
  {
   "metadata": {},
   "cell_type": "code",
   "outputs": [
    {
     "name": "stdout",
     "output_type": "stream",
     "text": [
      "Hi, My name is Davood Bhat\n",
      "I am from Kashmir\n"
     ]
    }
   ],
   "execution_count": 4,
   "source": [
    "with open(\"myfile.txt\", \"r\") as file:\n",
    "    for line in file:\n",
    "        print(line.strip()) # strip() removes the new line character"
   ],
   "id": "3203cb0fb62c0d8c"
  },
  {
   "metadata": {},
   "cell_type": "markdown",
   "source": "#### Writing in a file",
   "id": "9e3b19764dc0af69"
  },
  {
   "metadata": {},
   "cell_type": "code",
   "outputs": [],
   "execution_count": 9,
   "source": [
    "with open(\"myfile.txt\", \"w\") as file:\n",
    "    file.write(\"Writing fisrst line from file \\n\")\n",
    "    file.write(\"Writing second line from file \\n\")\n",
    "\n",
    "## As we are opening this file for a write operation, this will override all the existing content with this new content"
   ],
   "id": "91aeefc1a458a391"
  },
  {
   "metadata": {},
   "cell_type": "markdown",
   "source": "#### Write a file without overriding",
   "id": "1af9ea5c69d7e2dd"
  },
  {
   "metadata": {},
   "cell_type": "code",
   "outputs": [],
   "execution_count": 10,
   "source": [
    "with open(\"myfile.txt\", \"a\") as file:\n",
    "    file.write(\"Writing third line from file with append operation \\n\")"
   ],
   "id": "7cbb72fc7cf72074"
  },
  {
   "metadata": {},
   "cell_type": "markdown",
   "source": "#### Writing list of lines to a file",
   "id": "87ad53c8463f238e"
  },
  {
   "metadata": {},
   "cell_type": "code",
   "outputs": [],
   "execution_count": 11,
   "source": [
    "lines=['first line \\n', 'second line \\n', 'third line \\n']\n",
    "with open(\"myfile.txt\", \"a\") as file:\n",
    "    file.writelines(lines)  # This will write all the lines"
   ],
   "id": "f28d66a39adc2ef5"
  },
  {
   "metadata": {},
   "cell_type": "markdown",
   "source": "# Working with Binary Files",
   "id": "8e413dc0209c6fb5"
  },
  {
   "metadata": {},
   "cell_type": "markdown",
   "source": "#### Write in Binary Files\n",
   "id": "41c517f6407aa9d7"
  },
  {
   "metadata": {
    "ExecuteTime": {
     "end_time": "2025-05-23T06:13:12.802762Z",
     "start_time": "2025-05-23T06:13:12.796308Z"
    }
   },
   "cell_type": "code",
   "source": [
    "data=b'\\x00\\x01\\x02\\x02\\x04'\n",
    "with open('example.bin', 'wb') as file:\n",
    "    file.write(data)"
   ],
   "id": "238509c44dba3956",
   "outputs": [],
   "execution_count": 12
  },
  {
   "metadata": {},
   "cell_type": "markdown",
   "source": "#### Read from a Binary file",
   "id": "470e4c0e049d741a"
  },
  {
   "metadata": {
    "ExecuteTime": {
     "end_time": "2025-05-23T06:14:14.212049Z",
     "start_time": "2025-05-23T06:14:14.203913Z"
    }
   },
   "cell_type": "code",
   "source": [
    "with open('example.bin', 'rb') as file:\n",
    "    data = file.read()\n",
    "    print(data)"
   ],
   "id": "c0887545932aa1ca",
   "outputs": [
    {
     "name": "stdout",
     "output_type": "stream",
     "text": [
      "b'\\x00\\x01\\x02\\x02\\x04'\n"
     ]
    }
   ],
   "execution_count": 13
  }
 ],
 "metadata": {
  "kernelspec": {
   "display_name": "Python 3",
   "language": "python",
   "name": "python3"
  },
  "language_info": {
   "codemirror_mode": {
    "name": "ipython",
    "version": 2
   },
   "file_extension": ".py",
   "mimetype": "text/x-python",
   "name": "python",
   "nbconvert_exporter": "python",
   "pygments_lexer": "ipython2",
   "version": "2.7.6"
  }
 },
 "nbformat": 4,
 "nbformat_minor": 5
}
